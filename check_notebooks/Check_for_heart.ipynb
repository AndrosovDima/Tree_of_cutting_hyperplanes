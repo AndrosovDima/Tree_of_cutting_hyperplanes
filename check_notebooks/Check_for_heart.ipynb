{
 "cells": [
  {
   "cell_type": "code",
   "execution_count": 15,
   "metadata": {},
   "outputs": [],
   "source": [
    "import numpy as np\n",
    "%matplotlib inline\n",
    "import matplotlib.pyplot as plt\n",
    "import pandas as pd\n",
    "import time\n",
    "from scipy.optimize import minimize, differential_evolution\n",
    "from sklearn.metrics import roc_auc_score, f1_score, accuracy_score\n",
    "from sklearn.ensemble import RandomForestClassifier\n",
    "from sklearn.tree import DecisionTreeClassifier\n",
    "from sklearn.model_selection import train_test_split"
   ]
  },
  {
   "cell_type": "code",
   "execution_count": 16,
   "metadata": {},
   "outputs": [],
   "source": [
    "df = pd.read_csv('heart_disease/heart.csv')"
   ]
  },
  {
   "cell_type": "code",
   "execution_count": 17,
   "metadata": {},
   "outputs": [
    {
     "data": {
      "text/html": [
       "<div>\n",
       "<style scoped>\n",
       "    .dataframe tbody tr th:only-of-type {\n",
       "        vertical-align: middle;\n",
       "    }\n",
       "\n",
       "    .dataframe tbody tr th {\n",
       "        vertical-align: top;\n",
       "    }\n",
       "\n",
       "    .dataframe thead th {\n",
       "        text-align: right;\n",
       "    }\n",
       "</style>\n",
       "<table border=\"1\" class=\"dataframe\">\n",
       "  <thead>\n",
       "    <tr style=\"text-align: right;\">\n",
       "      <th></th>\n",
       "      <th>age</th>\n",
       "      <th>sex</th>\n",
       "      <th>cp</th>\n",
       "      <th>trestbps</th>\n",
       "      <th>chol</th>\n",
       "      <th>fbs</th>\n",
       "      <th>restecg</th>\n",
       "      <th>thalach</th>\n",
       "      <th>exang</th>\n",
       "      <th>oldpeak</th>\n",
       "      <th>slope</th>\n",
       "      <th>ca</th>\n",
       "      <th>thal</th>\n",
       "      <th>target</th>\n",
       "    </tr>\n",
       "  </thead>\n",
       "  <tbody>\n",
       "    <tr>\n",
       "      <th>0</th>\n",
       "      <td>63</td>\n",
       "      <td>1</td>\n",
       "      <td>3</td>\n",
       "      <td>145</td>\n",
       "      <td>233</td>\n",
       "      <td>1</td>\n",
       "      <td>0</td>\n",
       "      <td>150</td>\n",
       "      <td>0</td>\n",
       "      <td>2.3</td>\n",
       "      <td>0</td>\n",
       "      <td>0</td>\n",
       "      <td>1</td>\n",
       "      <td>1</td>\n",
       "    </tr>\n",
       "    <tr>\n",
       "      <th>1</th>\n",
       "      <td>37</td>\n",
       "      <td>1</td>\n",
       "      <td>2</td>\n",
       "      <td>130</td>\n",
       "      <td>250</td>\n",
       "      <td>0</td>\n",
       "      <td>1</td>\n",
       "      <td>187</td>\n",
       "      <td>0</td>\n",
       "      <td>3.5</td>\n",
       "      <td>0</td>\n",
       "      <td>0</td>\n",
       "      <td>2</td>\n",
       "      <td>1</td>\n",
       "    </tr>\n",
       "    <tr>\n",
       "      <th>2</th>\n",
       "      <td>41</td>\n",
       "      <td>0</td>\n",
       "      <td>1</td>\n",
       "      <td>130</td>\n",
       "      <td>204</td>\n",
       "      <td>0</td>\n",
       "      <td>0</td>\n",
       "      <td>172</td>\n",
       "      <td>0</td>\n",
       "      <td>1.4</td>\n",
       "      <td>2</td>\n",
       "      <td>0</td>\n",
       "      <td>2</td>\n",
       "      <td>1</td>\n",
       "    </tr>\n",
       "    <tr>\n",
       "      <th>3</th>\n",
       "      <td>56</td>\n",
       "      <td>1</td>\n",
       "      <td>1</td>\n",
       "      <td>120</td>\n",
       "      <td>236</td>\n",
       "      <td>0</td>\n",
       "      <td>1</td>\n",
       "      <td>178</td>\n",
       "      <td>0</td>\n",
       "      <td>0.8</td>\n",
       "      <td>2</td>\n",
       "      <td>0</td>\n",
       "      <td>2</td>\n",
       "      <td>1</td>\n",
       "    </tr>\n",
       "    <tr>\n",
       "      <th>4</th>\n",
       "      <td>57</td>\n",
       "      <td>0</td>\n",
       "      <td>0</td>\n",
       "      <td>120</td>\n",
       "      <td>354</td>\n",
       "      <td>0</td>\n",
       "      <td>1</td>\n",
       "      <td>163</td>\n",
       "      <td>1</td>\n",
       "      <td>0.6</td>\n",
       "      <td>2</td>\n",
       "      <td>0</td>\n",
       "      <td>2</td>\n",
       "      <td>1</td>\n",
       "    </tr>\n",
       "  </tbody>\n",
       "</table>\n",
       "</div>"
      ],
      "text/plain": [
       "   age  sex  cp  trestbps  chol  fbs  restecg  thalach  exang  oldpeak  slope  \\\n",
       "0   63    1   3       145   233    1        0      150      0      2.3      0   \n",
       "1   37    1   2       130   250    0        1      187      0      3.5      0   \n",
       "2   41    0   1       130   204    0        0      172      0      1.4      2   \n",
       "3   56    1   1       120   236    0        1      178      0      0.8      2   \n",
       "4   57    0   0       120   354    0        1      163      1      0.6      2   \n",
       "\n",
       "   ca  thal  target  \n",
       "0   0     1       1  \n",
       "1   0     2       1  \n",
       "2   0     2       1  \n",
       "3   0     2       1  \n",
       "4   0     2       1  "
      ]
     },
     "execution_count": 17,
     "metadata": {},
     "output_type": "execute_result"
    }
   ],
   "source": [
    "df.head()"
   ]
  },
  {
   "cell_type": "code",
   "execution_count": 4,
   "metadata": {},
   "outputs": [
    {
     "data": {
      "text/plain": [
       "(303, 14)"
      ]
     },
     "execution_count": 4,
     "metadata": {},
     "output_type": "execute_result"
    }
   ],
   "source": [
    "df.shape"
   ]
  },
  {
   "cell_type": "code",
   "execution_count": 5,
   "metadata": {},
   "outputs": [],
   "source": [
    "X = df.drop(columns=['target']).values\n",
    "y = df['target'].values"
   ]
  },
  {
   "cell_type": "code",
   "execution_count": 6,
   "metadata": {},
   "outputs": [],
   "source": [
    "for i in range(X.shape[1]):\n",
    "    X[:,i]=(X[:,i]-X[:,i].min())/(X[:,i].max()-X[:,i].min())"
   ]
  },
  {
   "cell_type": "code",
   "execution_count": 7,
   "metadata": {},
   "outputs": [],
   "source": [
    "X_train, X_test, y_train, y_test = train_test_split(X, y, test_size=0.3, stratify=y)"
   ]
  },
  {
   "cell_type": "code",
   "execution_count": 8,
   "metadata": {},
   "outputs": [
    {
     "data": {
      "text/plain": [
       "(212, 13)"
      ]
     },
     "execution_count": 8,
     "metadata": {},
     "output_type": "execute_result"
    }
   ],
   "source": [
    "X_train.shape"
   ]
  },
  {
   "cell_type": "code",
   "execution_count": 9,
   "metadata": {},
   "outputs": [
    {
     "data": {
      "text/plain": [
       "0.5424528301886793"
      ]
     },
     "execution_count": 9,
     "metadata": {},
     "output_type": "execute_result"
    }
   ],
   "source": [
    "y_train.sum() / len(y_train)"
   ]
  },
  {
   "cell_type": "code",
   "execution_count": 10,
   "metadata": {},
   "outputs": [
    {
     "data": {
      "text/plain": [
       "0.5494505494505495"
      ]
     },
     "execution_count": 10,
     "metadata": {},
     "output_type": "execute_result"
    }
   ],
   "source": [
    "y_test.sum() / len(y_test)"
   ]
  },
  {
   "cell_type": "code",
   "execution_count": 19,
   "metadata": {},
   "outputs": [],
   "source": [
    "from Seniority_committee import Seniority_committee"
   ]
  },
  {
   "cell_type": "code",
   "execution_count": 20,
   "metadata": {},
   "outputs": [],
   "source": [
    "sc = Seniority_committee(N=40)"
   ]
  },
  {
   "cell_type": "code",
   "execution_count": 21,
   "metadata": {
    "scrolled": true
   },
   "outputs": [
    {
     "name": "stdout",
     "output_type": "stream",
     "text": [
      "Making hyperplane number 1\n",
      "X_train.shape[0] = 212\n",
      "k = 10\n",
      "L = 1024\n",
      "Optimizing hyperplane for class 1\n",
      "Optimization is started\n",
      "First approximation is obtained\n",
      "The minimum of the loss function: -0.5704647622810864\n",
      "Time taken for optimization: 3.2307207584381104\n",
      "Optimizing hyperplane for class 0\n",
      "Optimization is started\n",
      "First approximation is obtained\n",
      "The minimum of the loss function: -0.5315748062686656\n",
      "Time taken for optimization: 2.382990598678589\n",
      "X_1.shape[0] = 35\n",
      "X_0.shape[0] = 30\n",
      "Cutted data shape is not enough\n",
      "\n",
      "k = 9\n",
      "L = 512\n",
      "Optimizing hyperplane for class 1\n",
      "Optimization is started\n",
      "First approximation is obtained\n",
      "The minimum of the loss function: -0.6429670805684548\n",
      "Time taken for optimization: 2.207000732421875\n",
      "Optimizing hyperplane for class 0\n",
      "Optimization is started\n",
      "First approximation is obtained\n",
      "The minimum of the loss function: -1.0026205422701322\n",
      "Time taken for optimization: 2.8690009117126465\n",
      "X_1.shape[0] = 32\n",
      "X_0.shape[0] = 39\n",
      "Cutted data shape is not enough\n",
      "\n",
      "k = 8\n",
      "L = 256\n",
      "Optimizing hyperplane for class 1\n",
      "Optimization is started\n",
      "First approximation is obtained\n",
      "The minimum of the loss function: -1.3165257511033177\n",
      "Time taken for optimization: 2.702035427093506\n",
      "Optimizing hyperplane for class 0\n",
      "Optimization is started\n",
      "First approximation is obtained\n",
      "The minimum of the loss function: -0.5724376161776016\n",
      "Time taken for optimization: 2.467970371246338\n",
      "X_1.shape[0] = 44\n",
      "X_0.shape[0] = 31\n",
      "\n",
      "Making hyperplane number 2\n",
      "X_train.shape[0] = 168\n",
      "k = 10\n",
      "L = 1024\n",
      "Optimizing hyperplane for class 1\n",
      "Optimization is started\n",
      "First approximation is obtained\n",
      "The minimum of the loss function: -0.11749250122152316\n",
      "Time taken for optimization: 2.424987554550171\n",
      "Optimizing hyperplane for class 0\n",
      "Optimization is started\n",
      "First approximation is obtained\n",
      "The minimum of the loss function: -0.25786294784988667\n",
      "Time taken for optimization: 3.153028964996338\n",
      "X_1.shape[0] = 8\n",
      "X_0.shape[0] = 17\n",
      "Cutted data shape is not enough\n",
      "\n",
      "k = 9\n",
      "L = 512\n",
      "Optimizing hyperplane for class 1\n",
      "Optimization is started\n",
      "First approximation is obtained\n",
      "The minimum of the loss function: -0.163643318877484\n",
      "Time taken for optimization: 1.6870315074920654\n",
      "Optimizing hyperplane for class 0\n",
      "Optimization is started\n",
      "First approximation is obtained\n",
      "The minimum of the loss function: -0.46480105083876233\n",
      "Time taken for optimization: 2.430002450942993\n",
      "X_1.shape[0] = 8\n",
      "X_0.shape[0] = 23\n",
      "Cutted data shape is not enough\n",
      "\n",
      "k = 8\n",
      "L = 256\n",
      "Optimizing hyperplane for class 1\n",
      "Optimization is started\n",
      "First approximation is obtained\n",
      "The minimum of the loss function: -0.09084509160894205\n",
      "Time taken for optimization: 1.468963384628296\n",
      "Optimizing hyperplane for class 0\n",
      "Optimization is started\n",
      "First approximation is obtained\n",
      "The minimum of the loss function: -0.7347699679722031\n",
      "Time taken for optimization: 3.323026418685913\n",
      "X_1.shape[0] = 3\n",
      "X_0.shape[0] = 38\n",
      "Cutted data shape is not enough\n",
      "\n",
      "k = 7\n",
      "L = 128\n",
      "Optimizing hyperplane for class 1\n",
      "Optimization is started\n",
      "First approximation is obtained\n",
      "The minimum of the loss function: -0.1151633707553015\n",
      "Time taken for optimization: 1.8970210552215576\n",
      "Optimizing hyperplane for class 0\n",
      "Optimization is started\n",
      "First approximation is obtained\n",
      "The minimum of the loss function: -1.1161447466606238\n",
      "Time taken for optimization: 2.8979806900024414\n",
      "X_1.shape[0] = 11\n",
      "X_0.shape[0] = 45\n",
      "\n",
      "Making hyperplane number 3\n",
      "X_train.shape[0] = 123\n",
      "k = 10\n",
      "L = 1024\n",
      "Optimizing hyperplane for class 1\n",
      "Optimization is started\n",
      "First approximation is obtained\n",
      "The minimum of the loss function: -0.09525758717718599\n",
      "Time taken for optimization: 1.793999433517456\n",
      "Optimizing hyperplane for class 0\n",
      "Optimization is started\n",
      "First approximation is obtained\n",
      "The minimum of the loss function: -0.16863779565752396\n",
      "Time taken for optimization: 1.115034818649292\n",
      "X_1.shape[0] = 8\n",
      "X_0.shape[0] = 12\n",
      "Cutted data shape is not enough\n",
      "\n",
      "k = 9\n",
      "L = 512\n",
      "Optimizing hyperplane for class 1\n",
      "Optimization is started\n",
      "First approximation is obtained\n",
      "The minimum of the loss function: -0.10682155470098885\n",
      "Time taken for optimization: 1.5649185180664062\n",
      "Optimizing hyperplane for class 0\n",
      "Optimization is started\n",
      "First approximation is obtained\n",
      "The minimum of the loss function: -0.23386208652381055\n",
      "Time taken for optimization: 1.0530426502227783\n",
      "X_1.shape[0] = 8\n",
      "X_0.shape[0] = 12\n",
      "Cutted data shape is not enough\n",
      "\n",
      "k = 8\n",
      "L = 256\n",
      "Optimizing hyperplane for class 1\n",
      "Optimization is started\n",
      "First approximation is obtained\n",
      "The minimum of the loss function: -0.19882610048053626\n",
      "Time taken for optimization: 2.2949585914611816\n",
      "Optimizing hyperplane for class 0\n",
      "Optimization is started\n",
      "First approximation is obtained\n",
      "The minimum of the loss function: -0.15210414672122463\n",
      "Time taken for optimization: 1.2560315132141113\n",
      "X_1.shape[0] = 7\n",
      "X_0.shape[0] = 10\n",
      "Cutted data shape is not enough\n",
      "\n",
      "k = 7\n",
      "L = 128\n",
      "Optimizing hyperplane for class 1\n",
      "Optimization is started\n",
      "First approximation is obtained\n",
      "The minimum of the loss function: -0.2941971772176339\n",
      "Time taken for optimization: 1.8080275058746338\n",
      "Optimizing hyperplane for class 0\n",
      "Optimization is started\n",
      "First approximation is obtained\n",
      "The minimum of the loss function: -0.3975957194912696\n",
      "Time taken for optimization: 1.5299725532531738\n",
      "X_1.shape[0] = 8\n",
      "X_0.shape[0] = 14\n",
      "Cutted data shape is not enough\n",
      "\n",
      "k = 6\n",
      "L = 64\n",
      "Optimizing hyperplane for class 1\n",
      "Optimization is started\n",
      "First approximation is obtained\n",
      "The minimum of the loss function: -0.30370640210636773\n",
      "Time taken for optimization: 2.3170008659362793\n",
      "Optimizing hyperplane for class 0\n",
      "Optimization is started\n",
      "First approximation is obtained\n",
      "The minimum of the loss function: -6.0\n",
      "Time taken for optimization: 1.3820035457611084\n",
      "X_1.shape[0] = 7\n",
      "X_0.shape[0] = 6\n",
      "Cutted data shape is not enough\n",
      "\n",
      "k = 5\n",
      "L = 32\n",
      "Optimizing hyperplane for class 1\n",
      "Optimization is started\n",
      "First approximation is obtained\n",
      "The minimum of the loss function: -0.32153031811886595\n",
      "Time taken for optimization: 2.986994981765747\n",
      "Optimizing hyperplane for class 0\n",
      "Optimization is started\n",
      "First approximation is obtained\n",
      "The minimum of the loss function: -0.31837480154699255\n",
      "Time taken for optimization: 1.7170369625091553\n",
      "X_1.shape[0] = 16\n",
      "X_0.shape[0] = 10\n",
      "Cutted data shape is not enough\n",
      "\n",
      "k = 4\n",
      "L = 16\n",
      "Optimizing hyperplane for class 1\n",
      "Optimization is started\n",
      "First approximation is obtained\n",
      "The minimum of the loss function: -10.0\n",
      "Time taken for optimization: 2.5210013389587402\n",
      "Optimizing hyperplane for class 0\n",
      "Optimization is started\n",
      "First approximation is obtained\n",
      "The minimum of the loss function: -7.059811841907024\n",
      "Time taken for optimization: 2.630002975463867\n",
      "X_1.shape[0] = 10\n",
      "X_0.shape[0] = 8\n",
      "Cutted data shape is not enough\n",
      "\n",
      "k = 3\n",
      "L = 8\n",
      "Optimizing hyperplane for class 1\n",
      "Optimization is started\n",
      "First approximation is obtained\n",
      "The minimum of the loss function: -13.0\n",
      "Time taken for optimization: 3.166034460067749\n",
      "Optimizing hyperplane for class 0\n",
      "Optimization is started\n",
      "First approximation is obtained\n",
      "The minimum of the loss function: -11.955009639002384\n",
      "Time taken for optimization: 2.6650357246398926\n",
      "X_1.shape[0] = 13\n",
      "X_0.shape[0] = 18\n",
      "Cutted data shape is not enough\n",
      "\n",
      "k = 2\n",
      "L = 4\n",
      "Optimizing hyperplane for class 1\n",
      "Optimization is started\n",
      "First approximation is obtained\n",
      "The minimum of the loss function: -26.148775177601404\n",
      "Time taken for optimization: 3.878021240234375\n",
      "Optimizing hyperplane for class 0\n",
      "Optimization is started\n",
      "First approximation is obtained\n",
      "The minimum of the loss function: -13.393528244961804\n",
      "Time taken for optimization: 3.17098069190979\n",
      "X_1.shape[0] = 44\n",
      "X_0.shape[0] = 17\n",
      "\n",
      "Time taken to fit the model: 74.3012707233429\n"
     ]
    }
   ],
   "source": [
    "sc.fit(X_train, y_train, optim_method='TNC', verbose=2)"
   ]
  },
  {
   "cell_type": "code",
   "execution_count": 22,
   "metadata": {
    "scrolled": true
   },
   "outputs": [
    {
     "name": "stdout",
     "output_type": "stream",
     "text": [
      "Time taken to predict the targets: 0.1340010166168213\n",
      "Time taken to predict the targets: 0.05500006675720215\n",
      "Time taken to predict the targets: 0.10999917984008789\n",
      "Time taken to predict the targets: 0.04896140098571777\n",
      "Train Gini = 0.8190049305244287\n",
      "Test Gini = 0.8146341463414635\n",
      "Train F1 = 0.8177339901477834\n",
      "Test F1 = 0.8541666666666666\n",
      "Train accuracy = 0.8254716981132075\n",
      "Test accuracy = 0.8461538461538461\n"
     ]
    }
   ],
   "source": [
    "train_proba = sc.predict_proba(X_train)\n",
    "test_proba = sc.predict_proba(X_test)\n",
    "train_preds = sc.predict(X_train)\n",
    "test_preds = sc.predict(X_test)\n",
    "print('Train Gini = {}'.format(2 * roc_auc_score(y_train, train_proba) - 1))\n",
    "print('Test Gini = {}'.format(2 * roc_auc_score(y_test, test_proba) - 1))\n",
    "print('Train F1 = {}'.format(f1_score(y_train, train_preds)))\n",
    "print('Test F1 = {}'.format(f1_score(y_test, test_preds)))\n",
    "print('Train accuracy = {}'.format(accuracy_score(y_train, train_preds)))\n",
    "print('Test accuracy = {}'.format(accuracy_score(y_test, test_preds)))"
   ]
  },
  {
   "cell_type": "code",
   "execution_count": 23,
   "metadata": {},
   "outputs": [
    {
     "name": "stdout",
     "output_type": "stream",
     "text": [
      "Train Gini = 0.6922456297624382\n",
      "Test Gini = 0.6414634146341465\n",
      "Train F1 = 0.819548872180451\n",
      "Test F1 = 0.8035714285714286\n",
      "Train Accuracy = 0.7735849056603774\n",
      "Test Accuracy = 0.7582417582417582\n"
     ]
    }
   ],
   "source": [
    "tree = DecisionTreeClassifier(max_depth=2)\n",
    "tree.fit(X_train, y_train)\n",
    "train_proba = tree.predict_proba(X_train)\n",
    "test_proba = tree.predict_proba(X_test)\n",
    "train_preds = tree.predict(X_train)\n",
    "test_preds = tree.predict(X_test)\n",
    "print('Train Gini = {}'.format(2 * roc_auc_score(y_train, train_proba[:, 1]) - 1))\n",
    "print('Test Gini = {}'.format(2 * roc_auc_score(y_test, test_proba[:, 1]) - 1))\n",
    "print('Train F1 = {}'.format(f1_score(y_train, train_preds)))\n",
    "print('Test F1 = {}'.format(f1_score(y_test, test_preds)))\n",
    "print('Train Accuracy = {}'.format(accuracy_score(y_train, train_preds)))\n",
    "print('Test Accuracy = {}'.format(accuracy_score(y_test, test_preds)))"
   ]
  },
  {
   "cell_type": "code",
   "execution_count": 24,
   "metadata": {},
   "outputs": [
    {
     "name": "stdout",
     "output_type": "stream",
     "text": [
      "Train Gini = 0.6922456297624382\n",
      "Test Gini = 0.6414634146341465\n",
      "Train F1 = 0.8641975308641975\n",
      "Test F1 = 0.8627450980392156\n",
      "Train Accuracy = 0.8443396226415094\n",
      "Test Accuracy = 0.8461538461538461\n"
     ]
    }
   ],
   "source": [
    "from sklearn.linear_model import LogisticRegression\n",
    "logreg = LogisticRegression()\n",
    "logreg.fit(X_train, y_train)\n",
    "train_proba = logreg.predict_proba(X_train)\n",
    "test_proba = logreg.predict_proba(X_test)\n",
    "train_preds = logreg.predict(X_train)\n",
    "test_preds = logreg.predict(X_test)\n",
    "print('Train Gini = {}'.format(2 * roc_auc_score(y_train, train_proba[:, 1]) - 1))\n",
    "print('Test Gini = {}'.format(2 * roc_auc_score(y_test, test_proba[:, 1]) - 1))\n",
    "print('Train F1 = {}'.format(f1_score(y_train, train_preds)))\n",
    "print('Test F1 = {}'.format(f1_score(y_test, test_preds)))\n",
    "print('Train Accuracy = {}'.format(accuracy_score(y_train, train_preds)))\n",
    "print('Test Accuracy = {}'.format(accuracy_score(y_test, test_preds)))"
   ]
  },
  {
   "cell_type": "code",
   "execution_count": 25,
   "metadata": {},
   "outputs": [
    {
     "name": "stdout",
     "output_type": "stream",
     "text": [
      "Train Gini = 0.6922456297624382\n",
      "Test Gini = 0.6414634146341465\n",
      "Train F1 = 1.0\n",
      "Test F1 = 0.8932038834951457\n",
      "Train Accuracy = 1.0\n",
      "Test Accuracy = 0.8791208791208791\n"
     ]
    }
   ],
   "source": [
    "rf = RandomForestClassifier()\n",
    "rf.fit(X_train, y_train)\n",
    "train_proba = rf.predict_proba(X_train)\n",
    "test_proba = rf.predict_proba(X_test)\n",
    "train_preds = rf.predict(X_train)\n",
    "test_preds = rf.predict(X_test)\n",
    "print('Train Gini = {}'.format(2 * roc_auc_score(y_train, train_proba[:, 1]) - 1))\n",
    "print('Test Gini = {}'.format(2 * roc_auc_score(y_test, test_proba[:, 1]) - 1))\n",
    "print('Train F1 = {}'.format(f1_score(y_train, train_preds)))\n",
    "print('Test F1 = {}'.format(f1_score(y_test, test_preds)))\n",
    "print('Train Accuracy = {}'.format(accuracy_score(y_train, train_preds)))\n",
    "print('Test Accuracy = {}'.format(accuracy_score(y_test, test_preds)))"
   ]
  },
  {
   "cell_type": "code",
   "execution_count": 27,
   "metadata": {},
   "outputs": [
    {
     "name": "stdout",
     "output_type": "stream",
     "text": [
      "Train Gini = 0.6922456297624382\n",
      "Test Gini = 0.6414634146341465\n",
      "Train F1 = 0.9956331877729258\n",
      "Test F1 = 0.8041237113402062\n",
      "Train Accuracy = 0.9952830188679245\n",
      "Test Accuracy = 0.7912087912087912\n"
     ]
    }
   ],
   "source": [
    "from lightgbm import LGBMClassifier\n",
    "lgbm = LGBMClassifier()\n",
    "lgbm.fit(X_train, y_train)\n",
    "train_proba = lgbm.predict_proba(X_train)\n",
    "test_proba = lgbm.predict_proba(X_test)\n",
    "train_preds = lgbm.predict(X_train)\n",
    "test_preds = lgbm.predict(X_test)\n",
    "print('Train Gini = {}'.format(2 * roc_auc_score(y_train, train_proba[:, 1]) - 1))\n",
    "print('Test Gini = {}'.format(2 * roc_auc_score(y_test, test_proba[:, 1]) - 1))\n",
    "print('Train F1 = {}'.format(f1_score(y_train, train_preds)))\n",
    "print('Test F1 = {}'.format(f1_score(y_test, test_preds)))\n",
    "print('Train Accuracy = {}'.format(accuracy_score(y_train, train_preds)))\n",
    "print('Test Accuracy = {}'.format(accuracy_score(y_test, test_preds)))"
   ]
  },
  {
   "cell_type": "code",
   "execution_count": null,
   "metadata": {},
   "outputs": [],
   "source": []
  }
 ],
 "metadata": {
  "kernelspec": {
   "display_name": "Python 3",
   "language": "python",
   "name": "python3"
  },
  "language_info": {
   "codemirror_mode": {
    "name": "ipython",
    "version": 3
   },
   "file_extension": ".py",
   "mimetype": "text/x-python",
   "name": "python",
   "nbconvert_exporter": "python",
   "pygments_lexer": "ipython3",
   "version": "3.7.6"
  }
 },
 "nbformat": 4,
 "nbformat_minor": 4
}
