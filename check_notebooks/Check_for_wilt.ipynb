{
 "cells": [
  {
   "cell_type": "code",
   "execution_count": 1,
   "metadata": {},
   "outputs": [],
   "source": [
    "import numpy as np\n",
    "%matplotlib inline\n",
    "import matplotlib.pyplot as plt\n",
    "import pandas as pd\n",
    "import time\n",
    "from scipy.optimize import minimize, differential_evolution\n",
    "from sklearn.metrics import roc_auc_score, f1_score, accuracy_score\n",
    "from sklearn.ensemble import RandomForestClassifier\n",
    "from sklearn.tree import DecisionTreeClassifier\n",
    "from sklearn.model_selection import train_test_split"
   ]
  },
  {
   "cell_type": "code",
   "execution_count": 2,
   "metadata": {},
   "outputs": [],
   "source": [
    "df = pd.read_table('wilt/training.csv', sep=',')"
   ]
  },
  {
   "cell_type": "code",
   "execution_count": 3,
   "metadata": {},
   "outputs": [
    {
     "data": {
      "text/html": [
       "<div>\n",
       "<style scoped>\n",
       "    .dataframe tbody tr th:only-of-type {\n",
       "        vertical-align: middle;\n",
       "    }\n",
       "\n",
       "    .dataframe tbody tr th {\n",
       "        vertical-align: top;\n",
       "    }\n",
       "\n",
       "    .dataframe thead th {\n",
       "        text-align: right;\n",
       "    }\n",
       "</style>\n",
       "<table border=\"1\" class=\"dataframe\">\n",
       "  <thead>\n",
       "    <tr style=\"text-align: right;\">\n",
       "      <th></th>\n",
       "      <th>class</th>\n",
       "      <th>GLCM_pan</th>\n",
       "      <th>Mean_Green</th>\n",
       "      <th>Mean_Red</th>\n",
       "      <th>Mean_NIR</th>\n",
       "      <th>SD_pan</th>\n",
       "    </tr>\n",
       "  </thead>\n",
       "  <tbody>\n",
       "    <tr>\n",
       "      <th>0</th>\n",
       "      <td>w</td>\n",
       "      <td>120.362774</td>\n",
       "      <td>205.500000</td>\n",
       "      <td>119.395349</td>\n",
       "      <td>416.581395</td>\n",
       "      <td>20.676318</td>\n",
       "    </tr>\n",
       "    <tr>\n",
       "      <th>1</th>\n",
       "      <td>w</td>\n",
       "      <td>124.739583</td>\n",
       "      <td>202.800000</td>\n",
       "      <td>115.333333</td>\n",
       "      <td>354.333333</td>\n",
       "      <td>16.707151</td>\n",
       "    </tr>\n",
       "    <tr>\n",
       "      <th>2</th>\n",
       "      <td>w</td>\n",
       "      <td>134.691964</td>\n",
       "      <td>199.285714</td>\n",
       "      <td>116.857143</td>\n",
       "      <td>477.857143</td>\n",
       "      <td>22.496712</td>\n",
       "    </tr>\n",
       "    <tr>\n",
       "      <th>3</th>\n",
       "      <td>w</td>\n",
       "      <td>127.946309</td>\n",
       "      <td>178.368421</td>\n",
       "      <td>92.368421</td>\n",
       "      <td>278.473684</td>\n",
       "      <td>14.977453</td>\n",
       "    </tr>\n",
       "    <tr>\n",
       "      <th>4</th>\n",
       "      <td>w</td>\n",
       "      <td>135.431548</td>\n",
       "      <td>197.000000</td>\n",
       "      <td>112.690476</td>\n",
       "      <td>532.952381</td>\n",
       "      <td>17.604193</td>\n",
       "    </tr>\n",
       "  </tbody>\n",
       "</table>\n",
       "</div>"
      ],
      "text/plain": [
       "  class    GLCM_pan  Mean_Green    Mean_Red    Mean_NIR     SD_pan\n",
       "0     w  120.362774  205.500000  119.395349  416.581395  20.676318\n",
       "1     w  124.739583  202.800000  115.333333  354.333333  16.707151\n",
       "2     w  134.691964  199.285714  116.857143  477.857143  22.496712\n",
       "3     w  127.946309  178.368421   92.368421  278.473684  14.977453\n",
       "4     w  135.431548  197.000000  112.690476  532.952381  17.604193"
      ]
     },
     "execution_count": 3,
     "metadata": {},
     "output_type": "execute_result"
    }
   ],
   "source": [
    "df.head()"
   ]
  },
  {
   "cell_type": "code",
   "execution_count": 4,
   "metadata": {},
   "outputs": [
    {
     "data": {
      "text/plain": [
       "n    4265\n",
       "w      74\n",
       "Name: class, dtype: int64"
      ]
     },
     "execution_count": 4,
     "metadata": {},
     "output_type": "execute_result"
    }
   ],
   "source": [
    "df['class'].value_counts()"
   ]
  },
  {
   "cell_type": "code",
   "execution_count": 5,
   "metadata": {},
   "outputs": [],
   "source": [
    "from sklearn.preprocessing import LabelEncoder\n",
    "for col in ['class']:\n",
    "    le = LabelEncoder()\n",
    "    df[col] = le.fit_transform(df[col])"
   ]
  },
  {
   "cell_type": "code",
   "execution_count": 6,
   "metadata": {},
   "outputs": [
    {
     "data": {
      "text/html": [
       "<div>\n",
       "<style scoped>\n",
       "    .dataframe tbody tr th:only-of-type {\n",
       "        vertical-align: middle;\n",
       "    }\n",
       "\n",
       "    .dataframe tbody tr th {\n",
       "        vertical-align: top;\n",
       "    }\n",
       "\n",
       "    .dataframe thead th {\n",
       "        text-align: right;\n",
       "    }\n",
       "</style>\n",
       "<table border=\"1\" class=\"dataframe\">\n",
       "  <thead>\n",
       "    <tr style=\"text-align: right;\">\n",
       "      <th></th>\n",
       "      <th>class</th>\n",
       "      <th>GLCM_pan</th>\n",
       "      <th>Mean_Green</th>\n",
       "      <th>Mean_Red</th>\n",
       "      <th>Mean_NIR</th>\n",
       "      <th>SD_pan</th>\n",
       "    </tr>\n",
       "  </thead>\n",
       "  <tbody>\n",
       "    <tr>\n",
       "      <th>0</th>\n",
       "      <td>1</td>\n",
       "      <td>120.362774</td>\n",
       "      <td>205.500000</td>\n",
       "      <td>119.395349</td>\n",
       "      <td>416.581395</td>\n",
       "      <td>20.676318</td>\n",
       "    </tr>\n",
       "    <tr>\n",
       "      <th>1</th>\n",
       "      <td>1</td>\n",
       "      <td>124.739583</td>\n",
       "      <td>202.800000</td>\n",
       "      <td>115.333333</td>\n",
       "      <td>354.333333</td>\n",
       "      <td>16.707151</td>\n",
       "    </tr>\n",
       "    <tr>\n",
       "      <th>2</th>\n",
       "      <td>1</td>\n",
       "      <td>134.691964</td>\n",
       "      <td>199.285714</td>\n",
       "      <td>116.857143</td>\n",
       "      <td>477.857143</td>\n",
       "      <td>22.496712</td>\n",
       "    </tr>\n",
       "    <tr>\n",
       "      <th>3</th>\n",
       "      <td>1</td>\n",
       "      <td>127.946309</td>\n",
       "      <td>178.368421</td>\n",
       "      <td>92.368421</td>\n",
       "      <td>278.473684</td>\n",
       "      <td>14.977453</td>\n",
       "    </tr>\n",
       "    <tr>\n",
       "      <th>4</th>\n",
       "      <td>1</td>\n",
       "      <td>135.431548</td>\n",
       "      <td>197.000000</td>\n",
       "      <td>112.690476</td>\n",
       "      <td>532.952381</td>\n",
       "      <td>17.604193</td>\n",
       "    </tr>\n",
       "  </tbody>\n",
       "</table>\n",
       "</div>"
      ],
      "text/plain": [
       "   class    GLCM_pan  Mean_Green    Mean_Red    Mean_NIR     SD_pan\n",
       "0      1  120.362774  205.500000  119.395349  416.581395  20.676318\n",
       "1      1  124.739583  202.800000  115.333333  354.333333  16.707151\n",
       "2      1  134.691964  199.285714  116.857143  477.857143  22.496712\n",
       "3      1  127.946309  178.368421   92.368421  278.473684  14.977453\n",
       "4      1  135.431548  197.000000  112.690476  532.952381  17.604193"
      ]
     },
     "execution_count": 6,
     "metadata": {},
     "output_type": "execute_result"
    }
   ],
   "source": [
    "df.head()"
   ]
  },
  {
   "cell_type": "code",
   "execution_count": 7,
   "metadata": {},
   "outputs": [],
   "source": [
    "X = df.drop(columns=['class']).values\n",
    "y = df['class'].values"
   ]
  },
  {
   "cell_type": "code",
   "execution_count": 8,
   "metadata": {},
   "outputs": [],
   "source": [
    "for i in range(X.shape[1]):\n",
    "    X[:,i]=(X[:,i]-X[:,i].min())/(X[:,i].max()-X[:,i].min())"
   ]
  },
  {
   "cell_type": "code",
   "execution_count": 9,
   "metadata": {},
   "outputs": [],
   "source": [
    "X_train, X_test, y_train, y_test = train_test_split(X, y, test_size=0.3, stratify=y)"
   ]
  },
  {
   "cell_type": "code",
   "execution_count": 10,
   "metadata": {},
   "outputs": [
    {
     "data": {
      "text/plain": [
       "(3037, 5)"
      ]
     },
     "execution_count": 10,
     "metadata": {},
     "output_type": "execute_result"
    }
   ],
   "source": [
    "X_train.shape"
   ]
  },
  {
   "cell_type": "code",
   "execution_count": 11,
   "metadata": {},
   "outputs": [
    {
     "data": {
      "text/plain": [
       "0.017122160026341784"
      ]
     },
     "execution_count": 11,
     "metadata": {},
     "output_type": "execute_result"
    }
   ],
   "source": [
    "y_train.sum() / len(y_train)"
   ]
  },
  {
   "cell_type": "code",
   "execution_count": 30,
   "metadata": {
    "scrolled": true
   },
   "outputs": [
    {
     "name": "stdout",
     "output_type": "stream",
     "text": [
      "Making hyperplane number 1\n",
      "X_train.shape[0] = 3037\n",
      "k = 10\n",
      "L = 1024\n",
      "Optimizing hyperplane for class 1\n",
      "Optimization is started\n",
      "First approximation is obtained\n",
      "The minimum of the loss function: 0.0\n",
      "Time taken for optimization: 0.38399529457092285\n",
      "Optimizing hyperplane for class 0\n",
      "Optimization is started\n",
      "First approximation is obtained\n",
      "The minimum of the loss function: -2606.969473774156\n",
      "Time taken for optimization: 4.487003564834595\n",
      "X_1.shape[0] = 0\n",
      "X_0.shape[0] = 2818\n",
      "\n",
      "Making hyperplane number 2\n",
      "X_train.shape[0] = 219\n",
      "k = 10\n",
      "L = 1024\n",
      "Optimizing hyperplane for class 1\n",
      "Optimization is started\n",
      "First approximation is obtained\n",
      "The minimum of the loss function: 0.0\n",
      "Time taken for optimization: 0.15400147438049316\n",
      "Optimizing hyperplane for class 0\n",
      "Optimization is started\n",
      "First approximation is obtained\n",
      "The minimum of the loss function: -12.727588919152458\n",
      "Time taken for optimization: 0.81103515625\n",
      "X_1.shape[0] = 0\n",
      "X_0.shape[0] = 15\n",
      "Cutted data shape is not enough\n",
      "\n",
      "k = 9\n",
      "L = 512\n",
      "Optimizing hyperplane for class 1\n",
      "Optimization is started\n",
      "First approximation is obtained\n",
      "The minimum of the loss function: -0.001997458179722929\n",
      "Time taken for optimization: 0.12298345565795898\n",
      "Optimizing hyperplane for class 0\n",
      "Optimization is started\n",
      "First approximation is obtained\n",
      "The minimum of the loss function: -14.940792447233466\n",
      "Time taken for optimization: 0.8170394897460938\n",
      "X_1.shape[0] = 3\n",
      "X_0.shape[0] = 16\n",
      "Cutted data shape is not enough\n",
      "\n",
      "k = 8\n",
      "L = 256\n",
      "Optimizing hyperplane for class 1\n",
      "Optimization is started\n",
      "First approximation is obtained\n",
      "The minimum of the loss function: 0.0\n",
      "Time taken for optimization: 0.1260535717010498\n",
      "Optimizing hyperplane for class 0\n",
      "Optimization is started\n",
      "First approximation is obtained\n",
      "The minimum of the loss function: -17.899170174403572\n",
      "Time taken for optimization: 0.790015459060669\n",
      "X_1.shape[0] = 0\n",
      "X_0.shape[0] = 24\n",
      "Cutted data shape is not enough\n",
      "\n",
      "k = 7\n",
      "L = 128\n",
      "Optimizing hyperplane for class 1\n",
      "Optimization is started\n",
      "First approximation is obtained\n",
      "The minimum of the loss function: 0.0\n",
      "Time taken for optimization: 0.10699987411499023\n",
      "Optimizing hyperplane for class 0\n",
      "Optimization is started\n",
      "First approximation is obtained\n",
      "The minimum of the loss function: -17.0\n",
      "Time taken for optimization: 0.7750198841094971\n",
      "X_1.shape[0] = 0\n",
      "X_0.shape[0] = 17\n",
      "Cutted data shape is not enough\n",
      "\n",
      "k = 6\n",
      "L = 64\n",
      "Optimizing hyperplane for class 1\n",
      "Optimization is started\n",
      "First approximation is obtained\n",
      "The minimum of the loss function: 0.0\n",
      "Time taken for optimization: 0.09798455238342285\n",
      "Optimizing hyperplane for class 0\n",
      "Optimization is started\n",
      "First approximation is obtained\n",
      "The minimum of the loss function: -24.562110523966012\n",
      "Time taken for optimization: 0.850999116897583\n",
      "X_1.shape[0] = 0\n",
      "X_0.shape[0] = 37\n",
      "\n",
      "Making hyperplane number 3\n",
      "X_train.shape[0] = 182\n",
      "k = 10\n",
      "L = 1024\n",
      "Optimizing hyperplane for class 1\n",
      "Optimization is started\n",
      "First approximation is obtained\n",
      "The minimum of the loss function: 0.0\n",
      "Time taken for optimization: 0.1099998950958252\n",
      "Optimizing hyperplane for class 0\n",
      "Optimization is started\n",
      "First approximation is obtained\n",
      "The minimum of the loss function: -0.0518427854487942\n",
      "Time taken for optimization: 0.6060001850128174\n",
      "X_1.shape[0] = 0\n",
      "X_0.shape[0] = 17\n",
      "Cutted data shape is not enough\n",
      "\n",
      "k = 9\n",
      "L = 512\n",
      "Optimizing hyperplane for class 1\n",
      "Optimization is started\n",
      "First approximation is obtained\n",
      "The minimum of the loss function: 0.0\n",
      "Time taken for optimization: 0.09499979019165039\n",
      "Optimizing hyperplane for class 0\n",
      "Optimization is started\n",
      "First approximation is obtained\n",
      "The minimum of the loss function: -0.08627541807333279\n",
      "Time taken for optimization: 0.44300127029418945\n",
      "X_1.shape[0] = 0\n",
      "X_0.shape[0] = 2\n",
      "Cutted data shape is not enough\n",
      "\n",
      "k = 8\n",
      "L = 256\n",
      "Optimizing hyperplane for class 1\n",
      "Optimization is started\n",
      "First approximation is obtained\n",
      "The minimum of the loss function: 0.0\n",
      "Time taken for optimization: 0.10499978065490723\n",
      "Optimizing hyperplane for class 0\n",
      "Optimization is started\n",
      "First approximation is obtained\n",
      "The minimum of the loss function: -0.042359038268292626\n",
      "Time taken for optimization: 0.49500060081481934\n",
      "X_1.shape[0] = 0\n",
      "X_0.shape[0] = 2\n",
      "Cutted data shape is not enough\n",
      "\n",
      "k = 7\n",
      "L = 128\n",
      "Optimizing hyperplane for class 1\n",
      "Optimization is started\n",
      "First approximation is obtained\n",
      "The minimum of the loss function: -0.000991094642032453\n",
      "Time taken for optimization: 0.1360001564025879\n",
      "Optimizing hyperplane for class 0\n",
      "Optimization is started\n",
      "First approximation is obtained\n",
      "The minimum of the loss function: -2.0\n",
      "Time taken for optimization: 0.4109995365142822\n",
      "X_1.shape[0] = 1\n",
      "X_0.shape[0] = 2\n",
      "Cutted data shape is not enough\n",
      "\n",
      "k = 6\n",
      "L = 64\n",
      "Optimizing hyperplane for class 1\n",
      "Optimization is started\n",
      "First approximation is obtained\n",
      "The minimum of the loss function: 0.0\n",
      "Time taken for optimization: 0.09299945831298828\n",
      "Optimizing hyperplane for class 0\n",
      "Optimization is started\n",
      "First approximation is obtained\n",
      "The minimum of the loss function: -2.0\n",
      "Time taken for optimization: 0.48603343963623047\n",
      "X_1.shape[0] = 0\n",
      "X_0.shape[0] = 2\n",
      "Cutted data shape is not enough\n",
      "\n",
      "k = 5\n",
      "L = 32\n",
      "Optimizing hyperplane for class 1\n",
      "Optimization is started\n",
      "First approximation is obtained\n",
      "The minimum of the loss function: -0.002399388211974043\n",
      "Time taken for optimization: 0.1449880599975586\n",
      "Optimizing hyperplane for class 0\n",
      "Optimization is started\n",
      "First approximation is obtained\n",
      "The minimum of the loss function: -2.0\n",
      "Time taken for optimization: 0.43199682235717773\n",
      "X_1.shape[0] = 3\n",
      "X_0.shape[0] = 2\n",
      "Cutted data shape is not enough\n",
      "\n",
      "k = 4\n",
      "L = 16\n",
      "Optimizing hyperplane for class 1\n",
      "Optimization is started\n",
      "First approximation is obtained\n",
      "The minimum of the loss function: -0.0004171023652291186\n",
      "Time taken for optimization: 0.14799857139587402\n",
      "Optimizing hyperplane for class 0\n",
      "Optimization is started\n",
      "First approximation is obtained\n",
      "The minimum of the loss function: -47.55416079726013\n",
      "Time taken for optimization: 0.549001932144165\n",
      "X_1.shape[0] = 1\n",
      "X_0.shape[0] = 126\n",
      "\n",
      "Time taken to fit the model: 13.78999924659729\n"
     ]
    }
   ],
   "source": [
    "from Seniority_committee import Seniority_committee\n",
    "sc = Seniority_committee(N=30)\n",
    "sc.fit(X_train, y_train, optim_method='TNC', verbose=2)"
   ]
  },
  {
   "cell_type": "code",
   "execution_count": 31,
   "metadata": {},
   "outputs": [
    {
     "data": {
      "text/plain": [
       "{1: (0,\n",
       "  array([  1.4007776 ,  87.06844956, -58.89102182,   0.62848354,\n",
       "           2.19159692,  -1.99625411]),\n",
       "  0.0,\n",
       "  0.2374429223744292),\n",
       " 2: (0,\n",
       "  array([ 0.96033278, 11.77191693,  5.71801112, -7.13669345, -2.89667295,\n",
       "          0.12175999]),\n",
       "  0.0,\n",
       "  0.2857142857142857),\n",
       " 3: (0,\n",
       "  array([ -4.3606384 ,   5.63077474, -40.44188719,  -1.10189328,\n",
       "           7.37122404,   4.37621621]),\n",
       "  0.07142857142857142,\n",
       "  0.7678571428571429)}"
      ]
     },
     "execution_count": 31,
     "metadata": {},
     "output_type": "execute_result"
    }
   ],
   "source": [
    "sc.weights_hp"
   ]
  },
  {
   "cell_type": "code",
   "execution_count": 32,
   "metadata": {},
   "outputs": [
    {
     "name": "stdout",
     "output_type": "stream",
     "text": [
      "Time taken to predict the targets: 1.9399940967559814\n",
      "Time taken to predict the targets: 0.7860074043273926\n",
      "Time taken to predict the targets: 1.7759959697723389\n",
      "Time taken to predict the targets: 0.7940027713775635\n",
      "Train Gini = 0.988107202680067\n",
      "Test Gini = 0.9468394886363638\n",
      "Train F1 = 0.7962962962962962\n",
      "Test F1 = 0.8510638297872342\n",
      "Train accuracy = 0.9927560092196246\n",
      "Test accuracy = 0.9946236559139785\n"
     ]
    }
   ],
   "source": [
    "train_proba = sc.predict_proba(X_train)\n",
    "test_proba = sc.predict_proba(X_test)\n",
    "train_preds = sc.predict(X_train)\n",
    "test_preds = sc.predict(X_test)\n",
    "print('Train Gini = {}'.format(2 * roc_auc_score(y_train, train_proba) - 1))\n",
    "print('Test Gini = {}'.format(2 * roc_auc_score(y_test, test_proba) - 1))\n",
    "print('Train F1 = {}'.format(f1_score(y_train, train_preds)))\n",
    "print('Test F1 = {}'.format(f1_score(y_test, test_preds)))\n",
    "print('Train accuracy = {}'.format(accuracy_score(y_train, train_preds)))\n",
    "print('Test accuracy = {}'.format(accuracy_score(y_test, test_preds)))"
   ]
  },
  {
   "cell_type": "code",
   "execution_count": 14,
   "metadata": {},
   "outputs": [
    {
     "name": "stdout",
     "output_type": "stream",
     "text": [
      "Train Gini = 1.0\n",
      "Test Gini = 0.49765625000000013\n",
      "Train F1 = 1.0\n",
      "Test F1 = 0.6111111111111112\n",
      "Train Accuracy = 1.0\n",
      "Test Accuracy = 0.989247311827957\n"
     ]
    }
   ],
   "source": [
    "tree = DecisionTreeClassifier(max_depth=17)\n",
    "tree.fit(X_train, y_train)\n",
    "train_proba = tree.predict_proba(X_train)\n",
    "test_proba = tree.predict_proba(X_test)\n",
    "train_preds = tree.predict(X_train)\n",
    "test_preds = tree.predict(X_test)\n",
    "print('Train Gini = {}'.format(2 * roc_auc_score(y_train, train_proba[:, 1]) - 1))\n",
    "print('Test Gini = {}'.format(2 * roc_auc_score(y_test, test_proba[:, 1]) - 1))\n",
    "print('Train F1 = {}'.format(f1_score(y_train, train_preds)))\n",
    "print('Test F1 = {}'.format(f1_score(y_test, test_preds)))\n",
    "print('Train Accuracy = {}'.format(accuracy_score(y_train, train_preds)))\n",
    "print('Test Accuracy = {}'.format(accuracy_score(y_test, test_preds)))"
   ]
  },
  {
   "cell_type": "code",
   "execution_count": 27,
   "metadata": {},
   "outputs": [
    {
     "name": "stdout",
     "output_type": "stream",
     "text": [
      "Train Gini = 0.529364772580853\n",
      "Test Gini = 0.4875710227272727\n",
      "Train F1 = 0.0\n",
      "Test F1 = 0.0\n",
      "Train Accuracy = 0.9828778399736582\n",
      "Test Accuracy = 0.9831029185867896\n"
     ]
    }
   ],
   "source": [
    "from sklearn.linear_model import LogisticRegression\n",
    "logreg = LogisticRegression()\n",
    "logreg.fit(X_train, y_train)\n",
    "train_proba = logreg.predict_proba(X_train)\n",
    "test_proba = logreg.predict_proba(X_test)\n",
    "train_preds = logreg.predict(X_train)\n",
    "test_preds = logreg.predict(X_test)\n",
    "print('Train Gini = {}'.format(2 * roc_auc_score(y_train, train_proba[:, 1]) - 1))\n",
    "print('Test Gini = {}'.format(2 * roc_auc_score(y_test, test_proba[:, 1]) - 1))\n",
    "print('Train F1 = {}'.format(f1_score(y_train, train_preds)))\n",
    "print('Test F1 = {}'.format(f1_score(y_test, test_preds)))\n",
    "print('Train Accuracy = {}'.format(accuracy_score(y_train, train_preds)))\n",
    "print('Test Accuracy = {}'.format(accuracy_score(y_test, test_preds)))"
   ]
  },
  {
   "cell_type": "code",
   "execution_count": 28,
   "metadata": {},
   "outputs": [
    {
     "name": "stdout",
     "output_type": "stream",
     "text": [
      "Train Gini = 1.0\n",
      "Test Gini = 0.9919034090909093\n",
      "Train F1 = 1.0\n",
      "Test F1 = 0.5806451612903226\n",
      "Train Accuracy = 1.0\n",
      "Test Accuracy = 0.9900153609831029\n"
     ]
    }
   ],
   "source": [
    "rf = RandomForestClassifier()\n",
    "rf.fit(X_train, y_train)\n",
    "train_proba = rf.predict_proba(X_train)\n",
    "test_proba = rf.predict_proba(X_test)\n",
    "train_preds = rf.predict(X_train)\n",
    "test_preds = rf.predict(X_test)\n",
    "print('Train Gini = {}'.format(2 * roc_auc_score(y_train, train_proba[:, 1]) - 1))\n",
    "print('Test Gini = {}'.format(2 * roc_auc_score(y_test, test_proba[:, 1]) - 1))\n",
    "print('Train F1 = {}'.format(f1_score(y_train, train_preds)))\n",
    "print('Test F1 = {}'.format(f1_score(y_test, test_preds)))\n",
    "print('Train Accuracy = {}'.format(accuracy_score(y_train, train_preds)))\n",
    "print('Test Accuracy = {}'.format(accuracy_score(y_test, test_preds)))"
   ]
  },
  {
   "cell_type": "code",
   "execution_count": 29,
   "metadata": {},
   "outputs": [
    {
     "name": "stdout",
     "output_type": "stream",
     "text": [
      "Train Gini = 1.0\n",
      "Test Gini = 0.993465909090909\n",
      "Train F1 = 1.0\n",
      "Test F1 = 0.7567567567567568\n",
      "Train Accuracy = 1.0\n",
      "Test Accuracy = 0.9930875576036866\n"
     ]
    }
   ],
   "source": [
    "from lightgbm import LGBMClassifier\n",
    "lgbm = LGBMClassifier()\n",
    "lgbm.fit(X_train, y_train)\n",
    "train_proba = lgbm.predict_proba(X_train)\n",
    "test_proba = lgbm.predict_proba(X_test)\n",
    "train_preds = lgbm.predict(X_train)\n",
    "test_preds = lgbm.predict(X_test)\n",
    "print('Train Gini = {}'.format(2 * roc_auc_score(y_train, train_proba[:, 1]) - 1))\n",
    "print('Test Gini = {}'.format(2 * roc_auc_score(y_test, test_proba[:, 1]) - 1))\n",
    "print('Train F1 = {}'.format(f1_score(y_train, train_preds)))\n",
    "print('Test F1 = {}'.format(f1_score(y_test, test_preds)))\n",
    "print('Train Accuracy = {}'.format(accuracy_score(y_train, train_preds)))\n",
    "print('Test Accuracy = {}'.format(accuracy_score(y_test, test_preds)))"
   ]
  },
  {
   "cell_type": "code",
   "execution_count": null,
   "metadata": {},
   "outputs": [],
   "source": []
  }
 ],
 "metadata": {
  "kernelspec": {
   "display_name": "Python 3",
   "language": "python",
   "name": "python3"
  },
  "language_info": {
   "codemirror_mode": {
    "name": "ipython",
    "version": 3
   },
   "file_extension": ".py",
   "mimetype": "text/x-python",
   "name": "python",
   "nbconvert_exporter": "python",
   "pygments_lexer": "ipython3",
   "version": "3.7.6"
  }
 },
 "nbformat": 4,
 "nbformat_minor": 4
}
