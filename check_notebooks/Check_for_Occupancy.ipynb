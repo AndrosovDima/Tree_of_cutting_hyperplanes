{
 "cells": [
  {
   "cell_type": "code",
   "execution_count": 1,
   "metadata": {},
   "outputs": [],
   "source": [
    "import numpy as np\n",
    "%matplotlib inline\n",
    "import matplotlib.pyplot as plt\n",
    "import pandas as pd\n",
    "import time\n",
    "from scipy.optimize import minimize, differential_evolution\n",
    "from sklearn.metrics import roc_auc_score, f1_score, accuracy_score\n",
    "from sklearn.ensemble import RandomForestClassifier\n",
    "from sklearn.tree import DecisionTreeClassifier\n",
    "from sklearn.model_selection import train_test_split"
   ]
  },
  {
   "cell_type": "code",
   "execution_count": 2,
   "metadata": {},
   "outputs": [],
   "source": [
    "df = pd.read_table('occupancy_data/datatest.txt', sep=',')"
   ]
  },
  {
   "cell_type": "code",
   "execution_count": 3,
   "metadata": {},
   "outputs": [],
   "source": [
    "df2 = pd.read_table('occupancy_data/datatest2.txt', sep=',')"
   ]
  },
  {
   "cell_type": "code",
   "execution_count": 4,
   "metadata": {},
   "outputs": [],
   "source": [
    "df_ = pd.read_table('occupancy_data/datatraining.txt', sep=',')"
   ]
  },
  {
   "cell_type": "code",
   "execution_count": 5,
   "metadata": {},
   "outputs": [
    {
     "data": {
      "text/html": [
       "<div>\n",
       "<style scoped>\n",
       "    .dataframe tbody tr th:only-of-type {\n",
       "        vertical-align: middle;\n",
       "    }\n",
       "\n",
       "    .dataframe tbody tr th {\n",
       "        vertical-align: top;\n",
       "    }\n",
       "\n",
       "    .dataframe thead th {\n",
       "        text-align: right;\n",
       "    }\n",
       "</style>\n",
       "<table border=\"1\" class=\"dataframe\">\n",
       "  <thead>\n",
       "    <tr style=\"text-align: right;\">\n",
       "      <th></th>\n",
       "      <th>date</th>\n",
       "      <th>Temperature</th>\n",
       "      <th>Humidity</th>\n",
       "      <th>Light</th>\n",
       "      <th>CO2</th>\n",
       "      <th>HumidityRatio</th>\n",
       "      <th>Occupancy</th>\n",
       "    </tr>\n",
       "  </thead>\n",
       "  <tbody>\n",
       "    <tr>\n",
       "      <th>1</th>\n",
       "      <td>2015-02-04 17:51:00</td>\n",
       "      <td>23.18</td>\n",
       "      <td>27.2720</td>\n",
       "      <td>426.0</td>\n",
       "      <td>721.25</td>\n",
       "      <td>0.004793</td>\n",
       "      <td>1</td>\n",
       "    </tr>\n",
       "    <tr>\n",
       "      <th>2</th>\n",
       "      <td>2015-02-04 17:51:59</td>\n",
       "      <td>23.15</td>\n",
       "      <td>27.2675</td>\n",
       "      <td>429.5</td>\n",
       "      <td>714.00</td>\n",
       "      <td>0.004783</td>\n",
       "      <td>1</td>\n",
       "    </tr>\n",
       "    <tr>\n",
       "      <th>3</th>\n",
       "      <td>2015-02-04 17:53:00</td>\n",
       "      <td>23.15</td>\n",
       "      <td>27.2450</td>\n",
       "      <td>426.0</td>\n",
       "      <td>713.50</td>\n",
       "      <td>0.004779</td>\n",
       "      <td>1</td>\n",
       "    </tr>\n",
       "    <tr>\n",
       "      <th>4</th>\n",
       "      <td>2015-02-04 17:54:00</td>\n",
       "      <td>23.15</td>\n",
       "      <td>27.2000</td>\n",
       "      <td>426.0</td>\n",
       "      <td>708.25</td>\n",
       "      <td>0.004772</td>\n",
       "      <td>1</td>\n",
       "    </tr>\n",
       "    <tr>\n",
       "      <th>5</th>\n",
       "      <td>2015-02-04 17:55:00</td>\n",
       "      <td>23.10</td>\n",
       "      <td>27.2000</td>\n",
       "      <td>426.0</td>\n",
       "      <td>704.50</td>\n",
       "      <td>0.004757</td>\n",
       "      <td>1</td>\n",
       "    </tr>\n",
       "  </tbody>\n",
       "</table>\n",
       "</div>"
      ],
      "text/plain": [
       "                  date  Temperature  Humidity  Light     CO2  HumidityRatio  \\\n",
       "1  2015-02-04 17:51:00        23.18   27.2720  426.0  721.25       0.004793   \n",
       "2  2015-02-04 17:51:59        23.15   27.2675  429.5  714.00       0.004783   \n",
       "3  2015-02-04 17:53:00        23.15   27.2450  426.0  713.50       0.004779   \n",
       "4  2015-02-04 17:54:00        23.15   27.2000  426.0  708.25       0.004772   \n",
       "5  2015-02-04 17:55:00        23.10   27.2000  426.0  704.50       0.004757   \n",
       "\n",
       "   Occupancy  \n",
       "1          1  \n",
       "2          1  \n",
       "3          1  \n",
       "4          1  \n",
       "5          1  "
      ]
     },
     "execution_count": 5,
     "metadata": {},
     "output_type": "execute_result"
    }
   ],
   "source": [
    "df_.head()"
   ]
  },
  {
   "cell_type": "code",
   "execution_count": 6,
   "metadata": {},
   "outputs": [
    {
     "data": {
      "text/html": [
       "<div>\n",
       "<style scoped>\n",
       "    .dataframe tbody tr th:only-of-type {\n",
       "        vertical-align: middle;\n",
       "    }\n",
       "\n",
       "    .dataframe tbody tr th {\n",
       "        vertical-align: top;\n",
       "    }\n",
       "\n",
       "    .dataframe thead th {\n",
       "        text-align: right;\n",
       "    }\n",
       "</style>\n",
       "<table border=\"1\" class=\"dataframe\">\n",
       "  <thead>\n",
       "    <tr style=\"text-align: right;\">\n",
       "      <th></th>\n",
       "      <th>date</th>\n",
       "      <th>Temperature</th>\n",
       "      <th>Humidity</th>\n",
       "      <th>Light</th>\n",
       "      <th>CO2</th>\n",
       "      <th>HumidityRatio</th>\n",
       "      <th>Occupancy</th>\n",
       "    </tr>\n",
       "  </thead>\n",
       "  <tbody>\n",
       "    <tr>\n",
       "      <th>1</th>\n",
       "      <td>2015-02-11 14:48:00</td>\n",
       "      <td>21.7600</td>\n",
       "      <td>31.133333</td>\n",
       "      <td>437.333333</td>\n",
       "      <td>1029.666667</td>\n",
       "      <td>0.005021</td>\n",
       "      <td>1</td>\n",
       "    </tr>\n",
       "    <tr>\n",
       "      <th>2</th>\n",
       "      <td>2015-02-11 14:49:00</td>\n",
       "      <td>21.7900</td>\n",
       "      <td>31.000000</td>\n",
       "      <td>437.333333</td>\n",
       "      <td>1000.000000</td>\n",
       "      <td>0.005009</td>\n",
       "      <td>1</td>\n",
       "    </tr>\n",
       "    <tr>\n",
       "      <th>3</th>\n",
       "      <td>2015-02-11 14:50:00</td>\n",
       "      <td>21.7675</td>\n",
       "      <td>31.122500</td>\n",
       "      <td>434.000000</td>\n",
       "      <td>1003.750000</td>\n",
       "      <td>0.005022</td>\n",
       "      <td>1</td>\n",
       "    </tr>\n",
       "    <tr>\n",
       "      <th>4</th>\n",
       "      <td>2015-02-11 14:51:00</td>\n",
       "      <td>21.7675</td>\n",
       "      <td>31.122500</td>\n",
       "      <td>439.000000</td>\n",
       "      <td>1009.500000</td>\n",
       "      <td>0.005022</td>\n",
       "      <td>1</td>\n",
       "    </tr>\n",
       "    <tr>\n",
       "      <th>5</th>\n",
       "      <td>2015-02-11 14:51:59</td>\n",
       "      <td>21.7900</td>\n",
       "      <td>31.133333</td>\n",
       "      <td>437.333333</td>\n",
       "      <td>1005.666667</td>\n",
       "      <td>0.005030</td>\n",
       "      <td>1</td>\n",
       "    </tr>\n",
       "  </tbody>\n",
       "</table>\n",
       "</div>"
      ],
      "text/plain": [
       "                  date  Temperature   Humidity       Light          CO2  \\\n",
       "1  2015-02-11 14:48:00      21.7600  31.133333  437.333333  1029.666667   \n",
       "2  2015-02-11 14:49:00      21.7900  31.000000  437.333333  1000.000000   \n",
       "3  2015-02-11 14:50:00      21.7675  31.122500  434.000000  1003.750000   \n",
       "4  2015-02-11 14:51:00      21.7675  31.122500  439.000000  1009.500000   \n",
       "5  2015-02-11 14:51:59      21.7900  31.133333  437.333333  1005.666667   \n",
       "\n",
       "   HumidityRatio  Occupancy  \n",
       "1       0.005021          1  \n",
       "2       0.005009          1  \n",
       "3       0.005022          1  \n",
       "4       0.005022          1  \n",
       "5       0.005030          1  "
      ]
     },
     "execution_count": 6,
     "metadata": {},
     "output_type": "execute_result"
    }
   ],
   "source": [
    "df2.head()"
   ]
  },
  {
   "cell_type": "code",
   "execution_count": 7,
   "metadata": {},
   "outputs": [
    {
     "data": {
      "text/plain": [
       "((2665, 7), (9752, 7), (8143, 7))"
      ]
     },
     "execution_count": 7,
     "metadata": {},
     "output_type": "execute_result"
    }
   ],
   "source": [
    "df.shape, df2.shape, df_.shape"
   ]
  },
  {
   "cell_type": "code",
   "execution_count": 8,
   "metadata": {},
   "outputs": [
    {
     "data": {
      "text/plain": [
       "(20560, 7)"
      ]
     },
     "execution_count": 8,
     "metadata": {},
     "output_type": "execute_result"
    }
   ],
   "source": [
    "data = pd.concat([df, df2, df_], axis=0)\n",
    "data.shape"
   ]
  },
  {
   "cell_type": "code",
   "execution_count": 9,
   "metadata": {},
   "outputs": [],
   "source": [
    "data.drop_duplicates(inplace=True)"
   ]
  },
  {
   "cell_type": "code",
   "execution_count": 10,
   "metadata": {},
   "outputs": [
    {
     "data": {
      "text/plain": [
       "(20560, 7)"
      ]
     },
     "execution_count": 10,
     "metadata": {},
     "output_type": "execute_result"
    }
   ],
   "source": [
    "data.shape"
   ]
  },
  {
   "cell_type": "code",
   "execution_count": 11,
   "metadata": {},
   "outputs": [],
   "source": [
    "df = data"
   ]
  },
  {
   "cell_type": "code",
   "execution_count": 12,
   "metadata": {},
   "outputs": [
    {
     "data": {
      "text/plain": [
       "(20560, 7)"
      ]
     },
     "execution_count": 12,
     "metadata": {},
     "output_type": "execute_result"
    }
   ],
   "source": [
    "df.shape"
   ]
  },
  {
   "cell_type": "code",
   "execution_count": 13,
   "metadata": {},
   "outputs": [
    {
     "data": {
      "text/plain": [
       "0    15810\n",
       "1     4750\n",
       "Name: Occupancy, dtype: int64"
      ]
     },
     "execution_count": 13,
     "metadata": {},
     "output_type": "execute_result"
    }
   ],
   "source": [
    "df['Occupancy'].value_counts()"
   ]
  },
  {
   "cell_type": "code",
   "execution_count": 14,
   "metadata": {},
   "outputs": [
    {
     "data": {
      "text/html": [
       "<div>\n",
       "<style scoped>\n",
       "    .dataframe tbody tr th:only-of-type {\n",
       "        vertical-align: middle;\n",
       "    }\n",
       "\n",
       "    .dataframe tbody tr th {\n",
       "        vertical-align: top;\n",
       "    }\n",
       "\n",
       "    .dataframe thead th {\n",
       "        text-align: right;\n",
       "    }\n",
       "</style>\n",
       "<table border=\"1\" class=\"dataframe\">\n",
       "  <thead>\n",
       "    <tr style=\"text-align: right;\">\n",
       "      <th></th>\n",
       "      <th>date</th>\n",
       "      <th>Temperature</th>\n",
       "      <th>Humidity</th>\n",
       "      <th>Light</th>\n",
       "      <th>CO2</th>\n",
       "      <th>HumidityRatio</th>\n",
       "      <th>Occupancy</th>\n",
       "    </tr>\n",
       "  </thead>\n",
       "  <tbody>\n",
       "    <tr>\n",
       "      <th>140</th>\n",
       "      <td>2015-02-02 14:19:00</td>\n",
       "      <td>23.7000</td>\n",
       "      <td>26.272</td>\n",
       "      <td>585.200000</td>\n",
       "      <td>749.200000</td>\n",
       "      <td>0.004764</td>\n",
       "      <td>1</td>\n",
       "    </tr>\n",
       "    <tr>\n",
       "      <th>141</th>\n",
       "      <td>2015-02-02 14:19:59</td>\n",
       "      <td>23.7180</td>\n",
       "      <td>26.290</td>\n",
       "      <td>578.400000</td>\n",
       "      <td>760.400000</td>\n",
       "      <td>0.004773</td>\n",
       "      <td>1</td>\n",
       "    </tr>\n",
       "    <tr>\n",
       "      <th>142</th>\n",
       "      <td>2015-02-02 14:21:00</td>\n",
       "      <td>23.7300</td>\n",
       "      <td>26.230</td>\n",
       "      <td>572.666667</td>\n",
       "      <td>769.666667</td>\n",
       "      <td>0.004765</td>\n",
       "      <td>1</td>\n",
       "    </tr>\n",
       "    <tr>\n",
       "      <th>143</th>\n",
       "      <td>2015-02-02 14:22:00</td>\n",
       "      <td>23.7225</td>\n",
       "      <td>26.125</td>\n",
       "      <td>493.750000</td>\n",
       "      <td>774.750000</td>\n",
       "      <td>0.004744</td>\n",
       "      <td>1</td>\n",
       "    </tr>\n",
       "    <tr>\n",
       "      <th>144</th>\n",
       "      <td>2015-02-02 14:23:00</td>\n",
       "      <td>23.7540</td>\n",
       "      <td>26.200</td>\n",
       "      <td>488.600000</td>\n",
       "      <td>779.000000</td>\n",
       "      <td>0.004767</td>\n",
       "      <td>1</td>\n",
       "    </tr>\n",
       "  </tbody>\n",
       "</table>\n",
       "</div>"
      ],
      "text/plain": [
       "                    date  Temperature  Humidity       Light         CO2  \\\n",
       "140  2015-02-02 14:19:00      23.7000    26.272  585.200000  749.200000   \n",
       "141  2015-02-02 14:19:59      23.7180    26.290  578.400000  760.400000   \n",
       "142  2015-02-02 14:21:00      23.7300    26.230  572.666667  769.666667   \n",
       "143  2015-02-02 14:22:00      23.7225    26.125  493.750000  774.750000   \n",
       "144  2015-02-02 14:23:00      23.7540    26.200  488.600000  779.000000   \n",
       "\n",
       "     HumidityRatio  Occupancy  \n",
       "140       0.004764          1  \n",
       "141       0.004773          1  \n",
       "142       0.004765          1  \n",
       "143       0.004744          1  \n",
       "144       0.004767          1  "
      ]
     },
     "execution_count": 14,
     "metadata": {},
     "output_type": "execute_result"
    }
   ],
   "source": [
    "df.head()"
   ]
  },
  {
   "cell_type": "code",
   "execution_count": 15,
   "metadata": {},
   "outputs": [],
   "source": [
    "X = df.drop(columns=['Occupancy', 'date']).values\n",
    "y = df['Occupancy'].values"
   ]
  },
  {
   "cell_type": "code",
   "execution_count": 16,
   "metadata": {},
   "outputs": [],
   "source": [
    "for i in range(X.shape[1]):\n",
    "    X[:,i]=(X[:,i]-X[:,i].min())/(X[:,i].max()-X[:,i].min())"
   ]
  },
  {
   "cell_type": "code",
   "execution_count": 17,
   "metadata": {},
   "outputs": [],
   "source": [
    "X_train, X_test, y_train, y_test = train_test_split(X, y, test_size=0.3, stratify=y)"
   ]
  },
  {
   "cell_type": "code",
   "execution_count": 18,
   "metadata": {},
   "outputs": [
    {
     "data": {
      "text/plain": [
       "(14392, 5)"
      ]
     },
     "execution_count": 18,
     "metadata": {},
     "output_type": "execute_result"
    }
   ],
   "source": [
    "X_train.shape"
   ]
  },
  {
   "cell_type": "code",
   "execution_count": 19,
   "metadata": {},
   "outputs": [
    {
     "data": {
      "text/plain": [
       "0.23103112840466927"
      ]
     },
     "execution_count": 19,
     "metadata": {},
     "output_type": "execute_result"
    }
   ],
   "source": [
    "y_train.sum() / len(y_train)"
   ]
  },
  {
   "cell_type": "code",
   "execution_count": 20,
   "metadata": {
    "scrolled": true
   },
   "outputs": [
    {
     "name": "stdout",
     "output_type": "stream",
     "text": [
      "Making hyperplane number 1\n",
      "X_train.shape[0] = 14392\n",
      "k = 10\n",
      "L = 1024\n",
      "Optimizing hyperplane for class 1\n",
      "Optimization is started\n",
      "First approximation is obtained\n",
      "The minimum of the loss function: -3.6303130399761976\n",
      "Time taken for optimization: 4.715996265411377\n",
      "Optimizing hyperplane for class 0\n",
      "Optimization is started\n",
      "First approximation is obtained\n",
      "The minimum of the loss function: -9437.110231715686\n",
      "Time taken for optimization: 18.183996200561523\n",
      "X_1.shape[0] = 424\n",
      "X_0.shape[0] = 9687\n",
      "\n",
      "Making hyperplane number 2\n",
      "X_train.shape[0] = 4705\n",
      "k = 10\n",
      "L = 1024\n",
      "Optimizing hyperplane for class 1\n",
      "Optimization is started\n",
      "First approximation is obtained\n",
      "The minimum of the loss function: -15.037350491795223\n",
      "Time taken for optimization: 2.143998861312866\n",
      "Optimizing hyperplane for class 0\n",
      "Optimization is started\n",
      "First approximation is obtained\n",
      "The minimum of the loss function: -5.236483948670424\n",
      "Time taken for optimization: 3.6240005493164062\n",
      "X_1.shape[0] = 496\n",
      "X_0.shape[0] = 259\n",
      "Cutted data shape is not enough\n",
      "\n",
      "k = 9\n",
      "L = 512\n",
      "Optimizing hyperplane for class 1\n",
      "Optimization is started\n",
      "First approximation is obtained\n",
      "The minimum of the loss function: -3.4441864825151542\n",
      "Time taken for optimization: 2.5880019664764404\n",
      "Optimizing hyperplane for class 0\n",
      "Optimization is started\n",
      "First approximation is obtained\n",
      "The minimum of the loss function: -218.24804517235623\n",
      "Time taken for optimization: 3.832005023956299\n",
      "X_1.shape[0] = 380\n",
      "X_0.shape[0] = 227\n",
      "Cutted data shape is not enough\n",
      "\n",
      "k = 8\n",
      "L = 256\n",
      "Optimizing hyperplane for class 1\n",
      "Optimization is started\n",
      "First approximation is obtained\n",
      "The minimum of the loss function: -426.6845079561187\n",
      "Time taken for optimization: 2.983996868133545\n",
      "Optimizing hyperplane for class 0\n",
      "Optimization is started\n",
      "First approximation is obtained\n",
      "The minimum of the loss function: -232.96679226787643\n",
      "Time taken for optimization: 4.7790000438690186\n",
      "X_1.shape[0] = 436\n",
      "X_0.shape[0] = 288\n",
      "Cutted data shape is not enough\n",
      "\n",
      "k = 7\n",
      "L = 128\n",
      "Optimizing hyperplane for class 1\n",
      "Optimization is started\n",
      "First approximation is obtained\n",
      "The minimum of the loss function: -315.4177765292668\n",
      "Time taken for optimization: 2.8539986610412598\n",
      "Optimizing hyperplane for class 0\n",
      "Optimization is started\n",
      "First approximation is obtained\n",
      "The minimum of the loss function: -619.3561942891882\n",
      "Time taken for optimization: 4.125003337860107\n",
      "X_1.shape[0] = 574\n",
      "X_0.shape[0] = 1027\n",
      "\n",
      "Making hyperplane number 3\n",
      "X_train.shape[0] = 3678\n",
      "k = 10\n",
      "L = 1024\n",
      "Optimizing hyperplane for class 1\n",
      "Optimization is started\n",
      "First approximation is obtained\n",
      "The minimum of the loss function: -75.3511230897289\n",
      "Time taken for optimization: 1.8879995346069336\n",
      "Optimizing hyperplane for class 0\n",
      "Optimization is started\n",
      "First approximation is obtained\n",
      "The minimum of the loss function: -1.4972337325822769\n",
      "Time taken for optimization: 2.1699984073638916\n",
      "X_1.shape[0] = 213\n",
      "X_0.shape[0] = 96\n",
      "Cutted data shape is not enough\n",
      "\n",
      "k = 9\n",
      "L = 512\n",
      "Optimizing hyperplane for class 1\n",
      "Optimization is started\n",
      "First approximation is obtained\n",
      "The minimum of the loss function: -100.09075001308582\n",
      "Time taken for optimization: 2.2780001163482666\n",
      "Optimizing hyperplane for class 0\n",
      "Optimization is started\n",
      "First approximation is obtained\n",
      "The minimum of the loss function: -2.0394622914144396\n",
      "Time taken for optimization: 2.384000301361084\n",
      "X_1.shape[0] = 297\n",
      "X_0.shape[0] = 114\n",
      "Cutted data shape is not enough\n",
      "\n",
      "k = 8\n",
      "L = 256\n",
      "Optimizing hyperplane for class 1\n",
      "Optimization is started\n",
      "First approximation is obtained\n",
      "The minimum of the loss function: -461.42300859493866\n",
      "Time taken for optimization: 2.7309982776641846\n",
      "Optimizing hyperplane for class 0\n",
      "Optimization is started\n",
      "First approximation is obtained\n",
      "The minimum of the loss function: -5.416047201989173\n",
      "Time taken for optimization: 3.1870038509368896\n",
      "X_1.shape[0] = 722\n",
      "X_0.shape[0] = 124\n",
      "\n",
      "Making hyperplane number 4\n",
      "X_train.shape[0] = 2956\n",
      "k = 10\n",
      "L = 1024\n",
      "Optimizing hyperplane for class 1\n",
      "Optimization is started\n",
      "First approximation is obtained\n",
      "The minimum of the loss function: -0.4309109334096186\n",
      "Time taken for optimization: 1.5450029373168945\n",
      "Optimizing hyperplane for class 0\n",
      "Optimization is started\n",
      "First approximation is obtained\n",
      "The minimum of the loss function: -1.2865222595807269\n",
      "Time taken for optimization: 3.644000768661499\n",
      "X_1.shape[0] = 126\n",
      "X_0.shape[0] = 113\n",
      "Cutted data shape is not enough\n",
      "\n",
      "k = 9\n",
      "L = 512\n",
      "Optimizing hyperplane for class 1\n",
      "Optimization is started\n",
      "First approximation is obtained\n",
      "The minimum of the loss function: -0.42117789314061005\n",
      "Time taken for optimization: 1.5049989223480225\n",
      "Optimizing hyperplane for class 0\n",
      "Optimization is started\n",
      "First approximation is obtained\n",
      "The minimum of the loss function: -1.465075146110296\n",
      "Time taken for optimization: 1.6469991207122803\n",
      "X_1.shape[0] = 240\n",
      "X_0.shape[0] = 129\n",
      "Cutted data shape is not enough\n",
      "\n",
      "k = 8\n",
      "L = 256\n",
      "Optimizing hyperplane for class 1\n",
      "Optimization is started\n",
      "First approximation is obtained\n",
      "The minimum of the loss function: -0.6084547522856099\n",
      "Time taken for optimization: 1.0729997158050537\n",
      "Optimizing hyperplane for class 0\n",
      "Optimization is started\n",
      "First approximation is obtained\n",
      "The minimum of the loss function: -1.4024808644157993\n",
      "Time taken for optimization: 2.3539998531341553\n",
      "X_1.shape[0] = 163\n",
      "X_0.shape[0] = 123\n",
      "Cutted data shape is not enough\n",
      "\n",
      "k = 7\n",
      "L = 128\n",
      "Optimizing hyperplane for class 1\n",
      "Optimization is started\n",
      "First approximation is obtained\n",
      "The minimum of the loss function: -0.3131883927927156\n",
      "Time taken for optimization: 1.01300048828125\n",
      "Optimizing hyperplane for class 0\n",
      "Optimization is started\n",
      "First approximation is obtained\n",
      "The minimum of the loss function: -114.76117593850458\n",
      "Time taken for optimization: 2.4729995727539062\n",
      "X_1.shape[0] = 149\n",
      "X_0.shape[0] = 120\n",
      "Cutted data shape is not enough\n",
      "\n",
      "k = 6\n",
      "L = 64\n",
      "Optimizing hyperplane for class 1\n",
      "Optimization is started\n",
      "First approximation is obtained\n",
      "The minimum of the loss function: -8.786662564827317\n",
      "Time taken for optimization: 1.6020028591156006\n",
      "Optimizing hyperplane for class 0\n",
      "Optimization is started\n",
      "First approximation is obtained\n",
      "The minimum of the loss function: -131.32429917222976\n",
      "Time taken for optimization: 2.5619969367980957\n",
      "X_1.shape[0] = 34\n",
      "X_0.shape[0] = 134\n",
      "Cutted data shape is not enough\n",
      "\n",
      "k = 5\n",
      "L = 32\n",
      "Optimizing hyperplane for class 1\n",
      "Optimization is started\n",
      "First approximation is obtained\n",
      "The minimum of the loss function: -471.1635995274662\n",
      "Time taken for optimization: 2.711001396179199\n",
      "Optimizing hyperplane for class 0\n",
      "Optimization is started\n",
      "First approximation is obtained\n",
      "The minimum of the loss function: -118.1163665199822\n",
      "Time taken for optimization: 2.0809993743896484\n",
      "X_1.shape[0] = 959\n",
      "X_0.shape[0] = 120\n",
      "\n",
      "Making hyperplane number 5\n",
      "X_train.shape[0] = 1997\n",
      "k = 10\n",
      "L = 1024\n",
      "Optimizing hyperplane for class 1\n",
      "Optimization is started\n",
      "First approximation is obtained\n",
      "The minimum of the loss function: -0.04883898151559385\n",
      "Time taken for optimization: 0.4539918899536133\n",
      "Optimizing hyperplane for class 0\n",
      "Optimization is started\n",
      "First approximation is obtained\n",
      "The minimum of the loss function: -2.2572581029255727\n",
      "Time taken for optimization: 1.3519935607910156\n",
      "X_1.shape[0] = 22\n",
      "X_0.shape[0] = 133\n",
      "Cutted data shape is not enough\n",
      "\n",
      "k = 9\n",
      "L = 512\n",
      "Optimizing hyperplane for class 1\n",
      "Optimization is started\n",
      "First approximation is obtained\n",
      "The minimum of the loss function: -0.011678303754751531\n",
      "Time taken for optimization: 0.513005256652832\n",
      "Optimizing hyperplane for class 0\n",
      "Optimization is started\n",
      "First approximation is obtained\n",
      "The minimum of the loss function: -2.5418256877009275\n",
      "Time taken for optimization: 1.4880292415618896\n",
      "X_1.shape[0] = 26\n",
      "X_0.shape[0] = 119\n",
      "Cutted data shape is not enough\n",
      "\n",
      "k = 8\n",
      "L = 256\n",
      "Optimizing hyperplane for class 1\n",
      "Optimization is started\n",
      "First approximation is obtained\n",
      "The minimum of the loss function: -0.07038274631422461\n",
      "Time taken for optimization: 0.7279596328735352\n",
      "Optimizing hyperplane for class 0\n",
      "Optimization is started\n",
      "First approximation is obtained\n",
      "The minimum of the loss function: -113.83852805092661\n",
      "Time taken for optimization: 1.3700342178344727\n",
      "X_1.shape[0] = 44\n",
      "X_0.shape[0] = 119\n",
      "Cutted data shape is not enough\n",
      "\n",
      "k = 7\n",
      "L = 128\n",
      "Optimizing hyperplane for class 1\n",
      "Optimization is started\n",
      "First approximation is obtained\n",
      "The minimum of the loss function: -0.4198737237919561\n",
      "Time taken for optimization: 0.4719960689544678\n",
      "Optimizing hyperplane for class 0\n",
      "Optimization is started\n"
     ]
    },
    {
     "name": "stdout",
     "output_type": "stream",
     "text": [
      "First approximation is obtained\n",
      "The minimum of the loss function: -121.05021718673439\n",
      "Time taken for optimization: 1.8539679050445557\n",
      "X_1.shape[0] = 116\n",
      "X_0.shape[0] = 133\n",
      "Cutted data shape is not enough\n",
      "\n",
      "k = 6\n",
      "L = 64\n",
      "Optimizing hyperplane for class 1\n",
      "Optimization is started\n",
      "First approximation is obtained\n",
      "The minimum of the loss function: -0.19338328661311904\n",
      "Time taken for optimization: 0.7890322208404541\n",
      "Optimizing hyperplane for class 0\n",
      "Optimization is started\n",
      "First approximation is obtained\n",
      "The minimum of the loss function: -116.55608968724789\n",
      "Time taken for optimization: 1.9480006694793701\n",
      "X_1.shape[0] = 172\n",
      "X_0.shape[0] = 133\n",
      "Cutted data shape is not enough\n",
      "\n",
      "k = 5\n",
      "L = 32\n",
      "Optimizing hyperplane for class 1\n",
      "Optimization is started\n",
      "First approximation is obtained\n",
      "The minimum of the loss function: -0.2667439610076119\n",
      "Time taken for optimization: 0.5660033226013184\n",
      "Optimizing hyperplane for class 0\n",
      "Optimization is started\n",
      "First approximation is obtained\n",
      "The minimum of the loss function: -133.65492610594697\n",
      "Time taken for optimization: 1.8410041332244873\n",
      "X_1.shape[0] = 118\n",
      "X_0.shape[0] = 137\n",
      "Cutted data shape is not enough\n",
      "\n",
      "k = 4\n",
      "L = 16\n",
      "Optimizing hyperplane for class 1\n",
      "Optimization is started\n",
      "First approximation is obtained\n",
      "The minimum of the loss function: -330.06303715661477\n",
      "Time taken for optimization: 3.021975040435791\n",
      "Optimizing hyperplane for class 0\n",
      "Optimization is started\n",
      "First approximation is obtained\n",
      "The minimum of the loss function: -128.08776570195442\n",
      "Time taken for optimization: 5.504003524780273\n",
      "X_1.shape[0] = 436\n",
      "X_0.shape[0] = 143\n",
      "Cutted data shape is not enough\n",
      "\n",
      "k = 3\n",
      "L = 8\n",
      "Optimizing hyperplane for class 1\n",
      "Optimization is started\n",
      "First approximation is obtained\n",
      "The minimum of the loss function: -762.9552798063124\n",
      "Time taken for optimization: 8.595009326934814\n",
      "Optimizing hyperplane for class 0\n",
      "Optimization is started\n",
      "First approximation is obtained\n",
      "The minimum of the loss function: -171.5000756425043\n",
      "Time taken for optimization: 2.9439942836761475\n",
      "X_1.shape[0] = 1742\n",
      "X_0.shape[0] = 217\n",
      "\n",
      "Time taken to fit the model: 122.14999485015869\n"
     ]
    }
   ],
   "source": [
    "from Seniority_committee import Seniority_committee\n",
    "sc = Seniority_committee(N=500)\n",
    "sc.fit(X_train, y_train, optim_method='TNC', verbose=2)"
   ]
  },
  {
   "cell_type": "code",
   "execution_count": 21,
   "metadata": {},
   "outputs": [
    {
     "name": "stdout",
     "output_type": "stream",
     "text": [
      "Time taken to predict the targets: 12.790998935699463\n",
      "Time taken to predict the targets: 4.693029165267944\n",
      "Time taken to predict the targets: 10.15697169303894\n",
      "Time taken to predict the targets: 6.107002019882202\n",
      "Train Gini = 0.9927775252715687\n",
      "Test Gini = 0.9925055945788992\n",
      "Train F1 = 0.9771784232365145\n",
      "Test F1 = 0.9725026105116602\n",
      "Train accuracy = 0.9892996108949417\n",
      "Test accuracy = 0.9871919584954605\n"
     ]
    }
   ],
   "source": [
    "train_proba = sc.predict_proba(X_train)\n",
    "test_proba = sc.predict_proba(X_test)\n",
    "train_preds = sc.predict(X_train)\n",
    "test_preds = sc.predict(X_test)\n",
    "print('Train Gini = {}'.format(2 * roc_auc_score(y_train, train_proba) - 1))\n",
    "print('Test Gini = {}'.format(2 * roc_auc_score(y_test, test_proba) - 1))\n",
    "print('Train F1 = {}'.format(f1_score(y_train, train_preds)))\n",
    "print('Test F1 = {}'.format(f1_score(y_test, test_preds)))\n",
    "print('Train accuracy = {}'.format(accuracy_score(y_train, train_preds)))\n",
    "print('Test accuracy = {}'.format(accuracy_score(y_test, test_preds)))"
   ]
  },
  {
   "cell_type": "code",
   "execution_count": 22,
   "metadata": {},
   "outputs": [
    {
     "name": "stdout",
     "output_type": "stream",
     "text": [
      "Train Gini = 0.9940520045029897\n",
      "Test Gini = 0.9892012975724152\n",
      "Train F1 = 0.979459139943845\n",
      "Test F1 = 0.9764705882352942\n",
      "Train Accuracy = 0.9903418565869928\n",
      "Test Accuracy = 0.9889753566796369\n"
     ]
    }
   ],
   "source": [
    "tree = DecisionTreeClassifier(max_depth=4)\n",
    "tree.fit(X_train, y_train)\n",
    "train_proba = tree.predict_proba(X_train)\n",
    "test_proba = tree.predict_proba(X_test)\n",
    "train_preds = tree.predict(X_train)\n",
    "test_preds = tree.predict(X_test)\n",
    "print('Train Gini = {}'.format(2 * roc_auc_score(y_train, train_proba[:, 1]) - 1))\n",
    "print('Test Gini = {}'.format(2 * roc_auc_score(y_test, test_proba[:, 1]) - 1))\n",
    "print('Train F1 = {}'.format(f1_score(y_train, train_preds)))\n",
    "print('Test F1 = {}'.format(f1_score(y_test, test_preds)))\n",
    "print('Train Accuracy = {}'.format(accuracy_score(y_train, train_preds)))\n",
    "print('Test Accuracy = {}'.format(accuracy_score(y_test, test_preds)))"
   ]
  },
  {
   "cell_type": "code",
   "execution_count": 23,
   "metadata": {},
   "outputs": [
    {
     "name": "stdout",
     "output_type": "stream",
     "text": [
      "Train Gini = 0.9891051021427246\n",
      "Test Gini = 0.9910066543123568\n",
      "Train F1 = 0.9771756736857605\n",
      "Test F1 = 0.9765355417529331\n",
      "Train Accuracy = 0.9892301278488049\n",
      "Test Accuracy = 0.9889753566796369\n"
     ]
    }
   ],
   "source": [
    "from sklearn.linear_model import LogisticRegression\n",
    "logreg = LogisticRegression()\n",
    "logreg.fit(X_train, y_train)\n",
    "train_proba = logreg.predict_proba(X_train)\n",
    "test_proba = logreg.predict_proba(X_test)\n",
    "train_preds = logreg.predict(X_train)\n",
    "test_preds = logreg.predict(X_test)\n",
    "print('Train Gini = {}'.format(2 * roc_auc_score(y_train, train_proba[:, 1]) - 1))\n",
    "print('Test Gini = {}'.format(2 * roc_auc_score(y_test, test_proba[:, 1]) - 1))\n",
    "print('Train F1 = {}'.format(f1_score(y_train, train_preds)))\n",
    "print('Test F1 = {}'.format(f1_score(y_test, test_preds)))\n",
    "print('Train Accuracy = {}'.format(accuracy_score(y_train, train_preds)))\n",
    "print('Test Accuracy = {}'.format(accuracy_score(y_test, test_preds)))"
   ]
  },
  {
   "cell_type": "code",
   "execution_count": 24,
   "metadata": {},
   "outputs": [
    {
     "name": "stdout",
     "output_type": "stream",
     "text": [
      "Train Gini = 1.0\n",
      "Test Gini = 0.9969211876412518\n",
      "Train F1 = 1.0\n",
      "Test F1 = 0.98353765323993\n",
      "Train Accuracy = 1.0\n",
      "Test Accuracy = 0.9923800259403373\n"
     ]
    }
   ],
   "source": [
    "rf = RandomForestClassifier()\n",
    "rf.fit(X_train, y_train)\n",
    "train_proba = rf.predict_proba(X_train)\n",
    "test_proba = rf.predict_proba(X_test)\n",
    "train_preds = rf.predict(X_train)\n",
    "test_preds = rf.predict(X_test)\n",
    "print('Train Gini = {}'.format(2 * roc_auc_score(y_train, train_proba[:, 1]) - 1))\n",
    "print('Test Gini = {}'.format(2 * roc_auc_score(y_test, test_proba[:, 1]) - 1))\n",
    "print('Train F1 = {}'.format(f1_score(y_train, train_preds)))\n",
    "print('Test F1 = {}'.format(f1_score(y_test, test_preds)))\n",
    "print('Train Accuracy = {}'.format(accuracy_score(y_train, train_preds)))\n",
    "print('Test Accuracy = {}'.format(accuracy_score(y_test, test_preds)))"
   ]
  },
  {
   "cell_type": "code",
   "execution_count": 25,
   "metadata": {},
   "outputs": [
    {
     "name": "stdout",
     "output_type": "stream",
     "text": [
      "Train Gini = 0.9999982335888513\n",
      "Test Gini = 0.9986260823891902\n",
      "Train F1 = 0.998798076923077\n",
      "Test F1 = 0.982098982098982\n",
      "Train Accuracy = 0.9994441356309061\n",
      "Test Accuracy = 0.9917315175097277\n"
     ]
    }
   ],
   "source": [
    "from lightgbm import LGBMClassifier\n",
    "lgbm = LGBMClassifier()\n",
    "lgbm.fit(X_train, y_train)\n",
    "train_proba = lgbm.predict_proba(X_train)\n",
    "test_proba = lgbm.predict_proba(X_test)\n",
    "train_preds = lgbm.predict(X_train)\n",
    "test_preds = lgbm.predict(X_test)\n",
    "print('Train Gini = {}'.format(2 * roc_auc_score(y_train, train_proba[:, 1]) - 1))\n",
    "print('Test Gini = {}'.format(2 * roc_auc_score(y_test, test_proba[:, 1]) - 1))\n",
    "print('Train F1 = {}'.format(f1_score(y_train, train_preds)))\n",
    "print('Test F1 = {}'.format(f1_score(y_test, test_preds)))\n",
    "print('Train Accuracy = {}'.format(accuracy_score(y_train, train_preds)))\n",
    "print('Test Accuracy = {}'.format(accuracy_score(y_test, test_preds)))"
   ]
  },
  {
   "cell_type": "code",
   "execution_count": null,
   "metadata": {},
   "outputs": [],
   "source": []
  }
 ],
 "metadata": {
  "kernelspec": {
   "display_name": "Python 3",
   "language": "python",
   "name": "python3"
  },
  "language_info": {
   "codemirror_mode": {
    "name": "ipython",
    "version": 3
   },
   "file_extension": ".py",
   "mimetype": "text/x-python",
   "name": "python",
   "nbconvert_exporter": "python",
   "pygments_lexer": "ipython3",
   "version": "3.7.6"
  }
 },
 "nbformat": 4,
 "nbformat_minor": 4
}
