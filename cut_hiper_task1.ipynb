{
 "cells": [
  {
   "cell_type": "markdown",
   "metadata": {},
   "source": [
    "res# 50 оттенков градиентного спуска \n",
    "\n",
    "В этом задании вам предстоит реализовать линейный классификатор и натренировать его, используя различные модификации градинетного спуска. Тетрадка позаимствована с [шадовского курса по нейронкам.](https://github.com/yandexdataschool/Practical_DL/blob/master/week01_backprop/adapdive_sgd/adaptive_sgd.ipynb)"
   ]
  },
  {
   "cell_type": "code",
   "execution_count": 1,
   "metadata": {},
   "outputs": [],
   "source": [
    "import numpy as np\n",
    "%matplotlib inline\n",
    "import matplotlib.pyplot as plt\n",
    "import pandas as pd\n",
    "import time\n",
    "from scipy.optimize import minimize\n",
    "from sklearn.metrics import roc_auc_score\n",
    "from sklearn.ensemble import RandomForestClassifier\n",
    "from sklearn.tree import DecisionTreeClassifier\n",
    "from sklearn.model_selection import train_test_split"
   ]
  },
  {
   "cell_type": "code",
   "execution_count": 2,
   "metadata": {},
   "outputs": [],
   "source": [
    "def expand(X):\n",
    "    \"\"\"\n",
    " \n",
    "    \"\"\"\n",
    "    ones=np.ones(len(X))\n",
    "    ones.shape=(len(X),1)\n",
    "    m=X[:,0]*X[:,1]\n",
    "#     print(m.values)\n",
    "    m.shape=(len(X),1)\n",
    "    X=np.hstack((X,ones))\n",
    "    return(X)"
   ]
  },
  {
   "cell_type": "code",
   "execution_count": 3,
   "metadata": {},
   "outputs": [],
   "source": [
    "df=pd.read_excel(\"Устойчивост эл_сети.xlsx\",engine='openpyxl',sheet_name='Data_for_UCI_named')\n",
    "X=df[df.columns[0:12]].values\n",
    "for i in range(X.shape[1]):\n",
    "    X[:,i]=(X[:,i]-X[:,i].min())/(X[:,i].max()-X[:,i].min())\n",
    "X=expand(X)\n",
    "y=(df.stabf=='stable')*1\n",
    "y=y.values\n",
    "X_train,X_test,y_train,y_test = train_test_split(X,y,test_size=0.3,random_state=42)\n"
   ]
  },
  {
   "cell_type": "code",
   "execution_count": 4,
   "metadata": {},
   "outputs": [
    {
     "name": "stdout",
     "output_type": "stream",
     "text": [
      "0.6800876303116883 0.7713121866398394\n"
     ]
    }
   ],
   "source": [
    "cfl=DecisionTreeClassifier(max_depth=5)\n",
    "cfl.fit(X_train,y_train)\n",
    "\n",
    "\n",
    "\n",
    "test_score=2*roc_auc_score(y_test,cfl.predict_proba(X_test)[:,1])-1\n",
    "train_score=2*roc_auc_score(y_train,cfl.predict_proba(X_train)[:,1])-1\n",
    "print(test_score,train_score)"
   ]
  },
  {
   "cell_type": "code",
   "execution_count": 5,
   "metadata": {},
   "outputs": [],
   "source": [
    "def probability(X, w):\n",
    "    \"\"\"\n",
    "    Принимает на вход матрицу фичей и вектор весов\n",
    "    Возвращает предсказание вероятность того, что y = 1 при фиксированных x, P(y=1|x)\n",
    "    \n",
    "    :param X: расширенная матрица фичей [n_samples,6] (expanded)\n",
    "    :param w: вектор весов [6]\n",
    "    :returns: вектор вероятностей\n",
    "    \"\"\"\n",
    "    linear=np.dot(X,w)\n",
    "    \n",
    "    #linear[linear<0]=linear[linear<0]/10000\n",
    "    #linear[linear>1]=linear[linear>1]/10000\n",
    "    \n",
    "    linear[linear<0]=0\n",
    "    linear[linear>1]=1\n",
    "    #linear[linear>1]=1/(1+np.exp(-linear[linear>1]))*2-1\n",
    "    \n",
    "    \n",
    "    return linear\n"
   ]
  },
  {
   "cell_type": "code",
   "execution_count": 6,
   "metadata": {},
   "outputs": [],
   "source": [
    "def compute_loss(X, y, w, L):\n",
    "    \"\"\"\n",
    "    Принимает на вход матрицу весов, вектор ответов и вектор весов.\n",
    "    Выдаёт на выход значение функции потерь, расчитанное по формуле выше.\n",
    "    \"\"\"\n",
    "    #L=1000\n",
    "        \n",
    "    p1=probability(X,w)\n",
    "    loss=np.sum((L-(L+1)*y)*p1)\n",
    "   \n",
    "    return loss\n",
    "    # ваш код здесь"
   ]
  },
  {
   "cell_type": "code",
   "execution_count": 7,
   "metadata": {},
   "outputs": [],
   "source": [
    "def new(w):\n",
    "    return compute_loss(X_train,y_train,w,L)\n",
    "\n",
    "def секущая_гипер_плоскость():\n",
    "    c=0.1\n",
    "    A=[]\n",
    "    sdt=time.time()\n",
    "    for i in range(100):\n",
    "        vBeta0= np.array([(np.random.rand(X_train.shape[1])-0.5)*c])\n",
    "        res=minimize(new, x0=vBeta0,method='Nelder-Mead',options={'disp': False,'adaptive':True})\n",
    "        A+=[[i,res.fun,res.x]]\n",
    "#         print(A[i])\n",
    "    A=pd.DataFrame(A)\n",
    "    A=A.sort_values(1).head(1)\n",
    "    коэфициенты_гипер_плоскости=A[2].values[0]\n",
    "    print(time.time()-sdt,A[2].values[0])\n",
    "    \n",
    "    return A[2].values[0]\n",
    "# \n",
    "\n",
    "def секатор(X, w):\n",
    "    linear=np.dot(X,w)\n",
    "    linear[linear<0]=0\n",
    "    return np.sign(linear)"
   ]
  },
  {
   "cell_type": "code",
   "execution_count": 8,
   "metadata": {},
   "outputs": [
    {
     "name": "stdout",
     "output_type": "stream",
     "text": [
      "7.548850774765015 [  -90.39835935  -130.72735036    43.3554188  -1314.72861029\n",
      "  -273.16856293  -651.92829009  1518.14086062   150.9322085\n",
      " -1280.05759934 -3450.07295705   -99.56966386   212.24082809\n",
      "  -191.19456037]\n"
     ]
    },
    {
     "data": {
      "text/plain": [
       "array([  -90.39835935,  -130.72735036,    43.3554188 , -1314.72861029,\n",
       "        -273.16856293,  -651.92829009,  1518.14086062,   150.9322085 ,\n",
       "       -1280.05759934, -3450.07295705,   -99.56966386,   212.24082809,\n",
       "        -191.19456037])"
      ]
     },
     "execution_count": 8,
     "metadata": {},
     "output_type": "execute_result"
    }
   ],
   "source": [
    "L=100\n",
    "секущая_гипер_плоскость()"
   ]
  },
  {
   "cell_type": "code",
   "execution_count": 8,
   "metadata": {},
   "outputs": [],
   "source": [
    "def секущая_гипер_плоскость2():\n",
    "    c=0.1\n",
    "    A=[]\n",
    "    sdt=time.time()\n",
    "    for i in range(1000):\n",
    "        vBeta0= np.array((np.random.rand(X_test.shape[1])-0.5)*c)\n",
    "        start_loss=compute_loss(X_exp, y, vBeta0, L)\n",
    "        res=minimize(new, x0=vBeta0,method='Nelder-Mead',options={'disp': False,'adaptive':True,'maxiter':100,'xatol':0.3})\n",
    "        A+=[[i,res.fun,res.x,start_loss,vBeta0]]\n",
    "    A=pd.DataFrame(A)\n",
    "    \n",
    "    return A"
   ]
  },
  {
   "cell_type": "code",
   "execution_count": 9,
   "metadata": {},
   "outputs": [],
   "source": [
    "\n",
    "\n",
    "def секущая_гипер_плоскость3():\n",
    "    c=0.1\n",
    "    A=[]\n",
    "    B=[]\n",
    "    sdt=time.time()\n",
    "    for i in range(100):\n",
    "        vBeta0= np.array((np.random.rand(X_test.shape[1])-0.5)*c)\n",
    "        res=minimize(new, x0=vBeta0,method='Nelder-Mead',options={'disp': False,'adaptive':True,'maxiter':10,'xatol':1})\n",
    "        \n",
    "        \n",
    "        if res.fun<0:       \n",
    "            A+=[res.x]\n",
    "    \n",
    "    \n",
    "    for vBeta0 in A:\n",
    "        res=minimize(new, x0=vBeta0,method='Nelder-Mead',options={'disp': False,'adaptive':True,'xatol':1})\n",
    "        \n",
    "        for k in range(2):\n",
    "            res=minimize(new, x0=res.x,method='Nelder-Mead',options={'disp': False,'adaptive':True})\n",
    "        \n",
    "        B+=[[res.fun,res.x,vBeta0]]\n",
    "            \n",
    "            \n",
    "    B=pd.DataFrame(B)\n",
    "   \n",
    "    \n",
    "    return B"
   ]
  },
  {
   "cell_type": "code",
   "execution_count": 12,
   "metadata": {},
   "outputs": [
    {
     "name": "stdout",
     "output_type": "stream",
     "text": [
      "6.137999057769775\n"
     ]
    }
   ],
   "source": [
    "\n",
    "sdt=time.time()\n",
    "\n",
    "L=100\n",
    "df=секущая_гипер_плоскость3()\n",
    "\n",
    "print(time.time()-sdt)"
   ]
  },
  {
   "cell_type": "code",
   "execution_count": 13,
   "metadata": {},
   "outputs": [
    {
     "data": {
      "text/html": [
       "<div>\n",
       "<style scoped>\n",
       "    .dataframe tbody tr th:only-of-type {\n",
       "        vertical-align: middle;\n",
       "    }\n",
       "\n",
       "    .dataframe tbody tr th {\n",
       "        vertical-align: top;\n",
       "    }\n",
       "\n",
       "    .dataframe thead th {\n",
       "        text-align: right;\n",
       "    }\n",
       "</style>\n",
       "<table border=\"1\" class=\"dataframe\">\n",
       "  <thead>\n",
       "    <tr style=\"text-align: right;\">\n",
       "      <th></th>\n",
       "      <th>0</th>\n",
       "      <th>1</th>\n",
       "      <th>2</th>\n",
       "    </tr>\n",
       "  </thead>\n",
       "  <tbody>\n",
       "    <tr>\n",
       "      <th>0</th>\n",
       "      <td>-419.190386</td>\n",
       "      <td>[-4.604848595729167, 0.19389750231405056, -2.7...</td>\n",
       "      <td>[-0.02123255683576636, 0.01242878403912803, -0...</td>\n",
       "    </tr>\n",
       "    <tr>\n",
       "      <th>1</th>\n",
       "      <td>-279.059812</td>\n",
       "      <td>[1.4613195796460516, -18.851873403580008, 0.65...</td>\n",
       "      <td>[0.03396180671749107, -0.0399700220127847, -0....</td>\n",
       "    </tr>\n",
       "    <tr>\n",
       "      <th>2</th>\n",
       "      <td>-201.000000</td>\n",
       "      <td>[-46.85205617961829, -260.91730619478653, -96....</td>\n",
       "      <td>[0.006181608291660418, -0.02119352188091247, 0...</td>\n",
       "    </tr>\n",
       "    <tr>\n",
       "      <th>3</th>\n",
       "      <td>-457.717135</td>\n",
       "      <td>[-1.7481468560774447, -1.6835375039727585, -9....</td>\n",
       "      <td>[-0.033379350444954825, -0.009900942025260838,...</td>\n",
       "    </tr>\n",
       "  </tbody>\n",
       "</table>\n",
       "</div>"
      ],
      "text/plain": [
       "            0                                                  1  \\\n",
       "0 -419.190386  [-4.604848595729167, 0.19389750231405056, -2.7...   \n",
       "1 -279.059812  [1.4613195796460516, -18.851873403580008, 0.65...   \n",
       "2 -201.000000  [-46.85205617961829, -260.91730619478653, -96....   \n",
       "3 -457.717135  [-1.7481468560774447, -1.6835375039727585, -9....   \n",
       "\n",
       "                                                   2  \n",
       "0  [-0.02123255683576636, 0.01242878403912803, -0...  \n",
       "1  [0.03396180671749107, -0.0399700220127847, -0....  \n",
       "2  [0.006181608291660418, -0.02119352188091247, 0...  \n",
       "3  [-0.033379350444954825, -0.009900942025260838,...  "
      ]
     },
     "execution_count": 13,
     "metadata": {},
     "output_type": "execute_result"
    }
   ],
   "source": [
    "df"
   ]
  },
  {
   "cell_type": "code",
   "execution_count": 17,
   "metadata": {},
   "outputs": [],
   "source": [
    "\n",
    "A=[]\n",
    "for i in df[df[0]<0][1]:\n",
    "    \n",
    "    vBeta0= i\n",
    "    start_loss=compute_loss(X, y, vBeta0, L)\n",
    "    res=minimize(new, x0=vBeta0,method='Nelder-Mead',options={'disp': False,'adaptive':True})\n",
    "    A+=[[i,res.fun,res.x,start_loss,vBeta0]]\n",
    "A=pd.DataFrame(A)\n",
    "A=A.sort_values(by=1)[0][0]\n",
    "    \n",
    "    "
   ]
  },
  {
   "cell_type": "code",
   "execution_count": 21,
   "metadata": {},
   "outputs": [
    {
     "data": {
      "text/plain": [
       "array([-4.6048486 ,  0.1938975 , -2.75157864, -5.77063014, -0.02458975,\n",
       "       -0.10405557,  0.30596697, -0.06598948, -2.72577222, -4.92789997,\n",
       "       -3.58344777, -2.42201091,  8.92644437])"
      ]
     },
     "execution_count": 21,
     "metadata": {},
     "output_type": "execute_result"
    }
   ],
   "source": [
    "A"
   ]
  },
  {
   "cell_type": "code",
   "execution_count": 22,
   "metadata": {},
   "outputs": [],
   "source": [
    "cut=секатор(X_train, A)\n",
    "# X_train=X_train[cut==0]\n",
    "# y_train=y_train[cut==0]\n",
    "\n"
   ]
  },
  {
   "cell_type": "code",
   "execution_count": 26,
   "metadata": {},
   "outputs": [
    {
     "ename": "IndexError",
     "evalue": "boolean index did not match indexed array along dimension 0; dimension is 7000 but corresponding boolean dimension is 2",
     "output_type": "error",
     "traceback": [
      "\u001b[1;31m---------------------------------------------------------------------------\u001b[0m",
      "\u001b[1;31mIndexError\u001b[0m                                Traceback (most recent call last)",
      "\u001b[1;32m<ipython-input-26-89df36c3051f>\u001b[0m in \u001b[0;36m<module>\u001b[1;34m\u001b[0m\n\u001b[1;32m----> 1\u001b[1;33m \u001b[0mX_train\u001b[0m\u001b[1;33m[\u001b[0m\u001b[1;33m[\u001b[0m\u001b[1;32mTrue\u001b[0m\u001b[1;33m,\u001b[0m \u001b[1;32mFalse\u001b[0m\u001b[1;33m]\u001b[0m\u001b[1;33m]\u001b[0m\u001b[1;33m\u001b[0m\u001b[1;33m\u001b[0m\u001b[0m\n\u001b[0m",
      "\u001b[1;31mIndexError\u001b[0m: boolean index did not match indexed array along dimension 0; dimension is 7000 but corresponding boolean dimension is 2"
     ]
    }
   ],
   "source": [
    "X_train[[True, False]]"
   ]
  },
  {
   "cell_type": "code",
   "execution_count": 14,
   "metadata": {},
   "outputs": [],
   "source": [
    "df=pd.read_excel(\"Устойчивост эл_сети.xlsx\",engine='openpyxl',sheet_name='Data_for_UCI_named')\n",
    "df['y']=y\n",
    "df['prob']=probability(X, A)\n",
    "df.to_clipboard()"
   ]
  },
  {
   "cell_type": "code",
   "execution_count": 32,
   "metadata": {},
   "outputs": [
    {
     "data": {
      "text/plain": [
       "array([1, 2])"
      ]
     },
     "execution_count": 32,
     "metadata": {},
     "output_type": "execute_result"
    }
   ],
   "source": [
    "a = np.array([[1, 2], [3, 4]])\n",
    "a[0]"
   ]
  },
  {
   "cell_type": "code",
   "execution_count": 15,
   "metadata": {},
   "outputs": [],
   "source": [
    "Test=pd.DataFrame(y_test)"
   ]
  },
  {
   "cell_type": "code",
   "execution_count": 16,
   "metadata": {},
   "outputs": [],
   "source": [
    "Test['Predict']=probability(X_test, A)"
   ]
  },
  {
   "cell_type": "code",
   "execution_count": 17,
   "metadata": {},
   "outputs": [],
   "source": [
    "Test.to_clipboard()"
   ]
  },
  {
   "cell_type": "code",
   "execution_count": 44,
   "metadata": {},
   "outputs": [],
   "source": [
    "abc = np.zeros(len(y_test))"
   ]
  },
  {
   "cell_type": "code",
   "execution_count": 46,
   "metadata": {},
   "outputs": [
    {
     "data": {
      "text/plain": [
       "array([0., 0., 0., ..., 0., 0., 0.])"
      ]
     },
     "execution_count": 46,
     "metadata": {},
     "output_type": "execute_result"
    }
   ],
   "source": [
    "abc"
   ]
  },
  {
   "cell_type": "code",
   "execution_count": 48,
   "metadata": {},
   "outputs": [
    {
     "data": {
      "text/html": [
       "<div>\n",
       "<style scoped>\n",
       "    .dataframe tbody tr th:only-of-type {\n",
       "        vertical-align: middle;\n",
       "    }\n",
       "\n",
       "    .dataframe tbody tr th {\n",
       "        vertical-align: top;\n",
       "    }\n",
       "\n",
       "    .dataframe thead th {\n",
       "        text-align: right;\n",
       "    }\n",
       "</style>\n",
       "<table border=\"1\" class=\"dataframe\">\n",
       "  <thead>\n",
       "    <tr style=\"text-align: right;\">\n",
       "      <th></th>\n",
       "      <th>TARGET</th>\n",
       "      <th>PEDICTIONS</th>\n",
       "    </tr>\n",
       "  </thead>\n",
       "  <tbody>\n",
       "    <tr>\n",
       "      <th>0</th>\n",
       "      <td>0</td>\n",
       "      <td>0</td>\n",
       "    </tr>\n",
       "    <tr>\n",
       "      <th>1</th>\n",
       "      <td>1</td>\n",
       "      <td>0</td>\n",
       "    </tr>\n",
       "    <tr>\n",
       "      <th>2</th>\n",
       "      <td>0</td>\n",
       "      <td>0</td>\n",
       "    </tr>\n",
       "    <tr>\n",
       "      <th>3</th>\n",
       "      <td>0</td>\n",
       "      <td>0</td>\n",
       "    </tr>\n",
       "    <tr>\n",
       "      <th>4</th>\n",
       "      <td>0</td>\n",
       "      <td>0</td>\n",
       "    </tr>\n",
       "    <tr>\n",
       "      <th>...</th>\n",
       "      <td>...</td>\n",
       "      <td>...</td>\n",
       "    </tr>\n",
       "    <tr>\n",
       "      <th>9995</th>\n",
       "      <td>0</td>\n",
       "      <td>0</td>\n",
       "    </tr>\n",
       "    <tr>\n",
       "      <th>9996</th>\n",
       "      <td>1</td>\n",
       "      <td>0</td>\n",
       "    </tr>\n",
       "    <tr>\n",
       "      <th>9997</th>\n",
       "      <td>1</td>\n",
       "      <td>0</td>\n",
       "    </tr>\n",
       "    <tr>\n",
       "      <th>9998</th>\n",
       "      <td>0</td>\n",
       "      <td>0</td>\n",
       "    </tr>\n",
       "    <tr>\n",
       "      <th>9999</th>\n",
       "      <td>0</td>\n",
       "      <td>0</td>\n",
       "    </tr>\n",
       "  </tbody>\n",
       "</table>\n",
       "<p>10000 rows × 2 columns</p>\n",
       "</div>"
      ],
      "text/plain": [
       "      TARGET  PEDICTIONS\n",
       "0          0           0\n",
       "1          1           0\n",
       "2          0           0\n",
       "3          0           0\n",
       "4          0           0\n",
       "...      ...         ...\n",
       "9995       0           0\n",
       "9996       1           0\n",
       "9997       1           0\n",
       "9998       0           0\n",
       "9999       0           0\n",
       "\n",
       "[10000 rows x 2 columns]"
      ]
     },
     "execution_count": 48,
     "metadata": {},
     "output_type": "execute_result"
    }
   ],
   "source": [
    "a = np.array([0, 1, 0, 0, 1])\n",
    "train_preds = pd.DataFrame(y, columns=['TARGET'])\n",
    "train_preds['PEDICTIONS'] = 0\n",
    "train_preds"
   ]
  },
  {
   "cell_type": "code",
   "execution_count": 49,
   "metadata": {},
   "outputs": [],
   "source": [
    "bools = [True, True, True] + [False] * 9997 "
   ]
  },
  {
   "cell_type": "code",
   "execution_count": 50,
   "metadata": {},
   "outputs": [
    {
     "data": {
      "text/plain": [
       "10000"
      ]
     },
     "execution_count": 50,
     "metadata": {},
     "output_type": "execute_result"
    }
   ],
   "source": [
    "len(bools)"
   ]
  },
  {
   "cell_type": "code",
   "execution_count": 52,
   "metadata": {},
   "outputs": [
    {
     "name": "stderr",
     "output_type": "stream",
     "text": [
      "D:\\Anaconda\\lib\\site-packages\\ipykernel_launcher.py:1: SettingWithCopyWarning: \n",
      "A value is trying to be set on a copy of a slice from a DataFrame\n",
      "\n",
      "See the caveats in the documentation: https://pandas.pydata.org/pandas-docs/stable/user_guide/indexing.html#returning-a-view-versus-a-copy\n",
      "  \"\"\"Entry point for launching an IPython kernel.\n"
     ]
    }
   ],
   "source": [
    "train_preds.PEDICTIONS[bools] = 0.5"
   ]
  },
  {
   "cell_type": "code",
   "execution_count": 53,
   "metadata": {},
   "outputs": [
    {
     "data": {
      "text/html": [
       "<div>\n",
       "<style scoped>\n",
       "    .dataframe tbody tr th:only-of-type {\n",
       "        vertical-align: middle;\n",
       "    }\n",
       "\n",
       "    .dataframe tbody tr th {\n",
       "        vertical-align: top;\n",
       "    }\n",
       "\n",
       "    .dataframe thead th {\n",
       "        text-align: right;\n",
       "    }\n",
       "</style>\n",
       "<table border=\"1\" class=\"dataframe\">\n",
       "  <thead>\n",
       "    <tr style=\"text-align: right;\">\n",
       "      <th></th>\n",
       "      <th>TARGET</th>\n",
       "      <th>PEDICTIONS</th>\n",
       "    </tr>\n",
       "  </thead>\n",
       "  <tbody>\n",
       "    <tr>\n",
       "      <th>0</th>\n",
       "      <td>0</td>\n",
       "      <td>0.5</td>\n",
       "    </tr>\n",
       "    <tr>\n",
       "      <th>1</th>\n",
       "      <td>1</td>\n",
       "      <td>0.5</td>\n",
       "    </tr>\n",
       "    <tr>\n",
       "      <th>2</th>\n",
       "      <td>0</td>\n",
       "      <td>0.5</td>\n",
       "    </tr>\n",
       "    <tr>\n",
       "      <th>3</th>\n",
       "      <td>0</td>\n",
       "      <td>0.0</td>\n",
       "    </tr>\n",
       "    <tr>\n",
       "      <th>4</th>\n",
       "      <td>0</td>\n",
       "      <td>0.0</td>\n",
       "    </tr>\n",
       "    <tr>\n",
       "      <th>...</th>\n",
       "      <td>...</td>\n",
       "      <td>...</td>\n",
       "    </tr>\n",
       "    <tr>\n",
       "      <th>9995</th>\n",
       "      <td>0</td>\n",
       "      <td>0.0</td>\n",
       "    </tr>\n",
       "    <tr>\n",
       "      <th>9996</th>\n",
       "      <td>1</td>\n",
       "      <td>0.0</td>\n",
       "    </tr>\n",
       "    <tr>\n",
       "      <th>9997</th>\n",
       "      <td>1</td>\n",
       "      <td>0.0</td>\n",
       "    </tr>\n",
       "    <tr>\n",
       "      <th>9998</th>\n",
       "      <td>0</td>\n",
       "      <td>0.0</td>\n",
       "    </tr>\n",
       "    <tr>\n",
       "      <th>9999</th>\n",
       "      <td>0</td>\n",
       "      <td>0.0</td>\n",
       "    </tr>\n",
       "  </tbody>\n",
       "</table>\n",
       "<p>10000 rows × 2 columns</p>\n",
       "</div>"
      ],
      "text/plain": [
       "      TARGET  PEDICTIONS\n",
       "0          0         0.5\n",
       "1          1         0.5\n",
       "2          0         0.5\n",
       "3          0         0.0\n",
       "4          0         0.0\n",
       "...      ...         ...\n",
       "9995       0         0.0\n",
       "9996       1         0.0\n",
       "9997       1         0.0\n",
       "9998       0         0.0\n",
       "9999       0         0.0\n",
       "\n",
       "[10000 rows x 2 columns]"
      ]
     },
     "execution_count": 53,
     "metadata": {},
     "output_type": "execute_result"
    }
   ],
   "source": [
    "train_preds"
   ]
  },
  {
   "cell_type": "code",
   "execution_count": null,
   "metadata": {},
   "outputs": [],
   "source": []
  }
 ],
 "metadata": {
  "kernelspec": {
   "display_name": "Python 3",
   "language": "python",
   "name": "python3"
  },
  "language_info": {
   "codemirror_mode": {
    "name": "ipython",
    "version": 3
   },
   "file_extension": ".py",
   "mimetype": "text/x-python",
   "name": "python",
   "nbconvert_exporter": "python",
   "pygments_lexer": "ipython3",
   "version": "3.7.6"
  }
 },
 "nbformat": 4,
 "nbformat_minor": 4
}
